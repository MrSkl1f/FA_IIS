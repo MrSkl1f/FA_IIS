{
 "cells": [
  {
   "attachments": {},
   "cell_type": "markdown",
   "metadata": {},
   "source": [
    "# **Задание по теме 3.**\n",
    "***На основе представленных в файле credit.csv данных решить задачу скоринга. Возможные варианты инструментов: нейросеть, дерево решений, лес деревьев решений, логистическая регрессия. Построить не менее 2 сетей с разной архитектурой. Сделать обоснованный выбор в пользу одного из инструментов на основе метрик ошибки.***"
   ]
  },
  {
   "attachments": {},
   "cell_type": "markdown",
   "metadata": {},
   "source": [
    "## ***1. Загрузка данных***"
   ]
  },
  {
   "cell_type": "code",
   "execution_count": 3,
   "metadata": {},
   "outputs": [],
   "source": [
    "import pandas as pd\n",
    "\n",
    "df = pd.read_csv('credit.csv', delimiter=';', encoding='cp1251')"
   ]
  },
  {
   "attachments": {},
   "cell_type": "markdown",
   "metadata": {},
   "source": [
    "## ***2. Предварительный анализ данных***"
   ]
  },
  {
   "attachments": {},
   "cell_type": "markdown",
   "metadata": {},
   "source": [
    "### ***2.1. Обзор структуры данных***"
   ]
  },
  {
   "cell_type": "code",
   "execution_count": 4,
   "metadata": {},
   "outputs": [
    {
     "data": {
      "text/html": [
       "<div>\n",
       "<style scoped>\n",
       "    .dataframe tbody tr th:only-of-type {\n",
       "        vertical-align: middle;\n",
       "    }\n",
       "\n",
       "    .dataframe tbody tr th {\n",
       "        vertical-align: top;\n",
       "    }\n",
       "\n",
       "    .dataframe thead th {\n",
       "        text-align: right;\n",
       "    }\n",
       "</style>\n",
       "<table border=\"1\" class=\"dataframe\">\n",
       "  <thead>\n",
       "    <tr style=\"text-align: right;\">\n",
       "      <th></th>\n",
       "      <th>client_id</th>\n",
       "      <th>DIR</th>\n",
       "      <th>Age</th>\n",
       "      <th>NumLoans</th>\n",
       "      <th>NumRealEstateLoans</th>\n",
       "      <th>NumDependents</th>\n",
       "      <th>Num30.59Delinquencies</th>\n",
       "      <th>Num60.89Delinquencies</th>\n",
       "      <th>Income</th>\n",
       "      <th>BalanceToCreditLimit</th>\n",
       "      <th>Delinquent90</th>\n",
       "    </tr>\n",
       "  </thead>\n",
       "  <tbody>\n",
       "    <tr>\n",
       "      <th>0</th>\n",
       "      <td>33</td>\n",
       "      <td>0,229227</td>\n",
       "      <td>34,2</td>\n",
       "      <td>5</td>\n",
       "      <td>0</td>\n",
       "      <td>3</td>\n",
       "      <td>0</td>\n",
       "      <td>0</td>\n",
       "      <td>4365,787145</td>\n",
       "      <td>0,614501</td>\n",
       "      <td>0</td>\n",
       "    </tr>\n",
       "    <tr>\n",
       "      <th>1</th>\n",
       "      <td>34</td>\n",
       "      <td>1,088303</td>\n",
       "      <td>31,3</td>\n",
       "      <td>10</td>\n",
       "      <td>2</td>\n",
       "      <td>1</td>\n",
       "      <td>0</td>\n",
       "      <td>0</td>\n",
       "      <td>3042,93144</td>\n",
       "      <td>0,33446</td>\n",
       "      <td>1</td>\n",
       "    </tr>\n",
       "    <tr>\n",
       "      <th>2</th>\n",
       "      <td>48</td>\n",
       "      <td>0</td>\n",
       "      <td>40,3</td>\n",
       "      <td>12</td>\n",
       "      <td>0</td>\n",
       "      <td>0</td>\n",
       "      <td>0</td>\n",
       "      <td>0</td>\n",
       "      <td>5236,071398</td>\n",
       "      <td>4,80E-05</td>\n",
       "      <td>0</td>\n",
       "    </tr>\n",
       "    <tr>\n",
       "      <th>3</th>\n",
       "      <td>51</td>\n",
       "      <td>0,085763</td>\n",
       "      <td>62,4</td>\n",
       "      <td>5</td>\n",
       "      <td>0</td>\n",
       "      <td>0</td>\n",
       "      <td>0</td>\n",
       "      <td>0</td>\n",
       "      <td>7715,104911</td>\n",
       "      <td>0,367092</td>\n",
       "      <td>0</td>\n",
       "    </tr>\n",
       "    <tr>\n",
       "      <th>4</th>\n",
       "      <td>53</td>\n",
       "      <td>0,340004</td>\n",
       "      <td>31,1</td>\n",
       "      <td>14</td>\n",
       "      <td>1</td>\n",
       "      <td>0</td>\n",
       "      <td>0</td>\n",
       "      <td>0</td>\n",
       "      <td>10987,84611</td>\n",
       "      <td>0,394608</td>\n",
       "      <td>0</td>\n",
       "    </tr>\n",
       "  </tbody>\n",
       "</table>\n",
       "</div>"
      ],
      "text/plain": [
       "   client_id       DIR   Age  NumLoans  NumRealEstateLoans  NumDependents   \n",
       "0         33  0,229227  34,2         5                   0              3  \\\n",
       "1         34  1,088303  31,3        10                   2              1   \n",
       "2         48         0  40,3        12                   0              0   \n",
       "3         51  0,085763  62,4         5                   0              0   \n",
       "4         53  0,340004  31,1        14                   1              0   \n",
       "\n",
       "   Num30.59Delinquencies  Num60.89Delinquencies       Income   \n",
       "0                      0                      0  4365,787145  \\\n",
       "1                      0                      0   3042,93144   \n",
       "2                      0                      0  5236,071398   \n",
       "3                      0                      0  7715,104911   \n",
       "4                      0                      0  10987,84611   \n",
       "\n",
       "  BalanceToCreditLimit  Delinquent90  \n",
       "0             0,614501             0  \n",
       "1              0,33446             1  \n",
       "2             4,80E-05             0  \n",
       "3             0,367092             0  \n",
       "4             0,394608             0  "
      ]
     },
     "execution_count": 4,
     "metadata": {},
     "output_type": "execute_result"
    }
   ],
   "source": [
    "df.head()"
   ]
  },
  {
   "cell_type": "code",
   "execution_count": 5,
   "metadata": {},
   "outputs": [
    {
     "name": "stdout",
     "output_type": "stream",
     "text": [
      "<class 'pandas.core.frame.DataFrame'>\n",
      "RangeIndex: 9803 entries, 0 to 9802\n",
      "Data columns (total 11 columns):\n",
      " #   Column                 Non-Null Count  Dtype \n",
      "---  ------                 --------------  ----- \n",
      " 0   client_id              9803 non-null   int64 \n",
      " 1   DIR                    9803 non-null   object\n",
      " 2   Age                    9803 non-null   object\n",
      " 3   NumLoans               9803 non-null   int64 \n",
      " 4   NumRealEstateLoans     9803 non-null   int64 \n",
      " 5   NumDependents          9803 non-null   int64 \n",
      " 6   Num30.59Delinquencies  9803 non-null   int64 \n",
      " 7   Num60.89Delinquencies  9803 non-null   int64 \n",
      " 8   Income                 9803 non-null   object\n",
      " 9   BalanceToCreditLimit   9803 non-null   object\n",
      " 10  Delinquent90           9803 non-null   int64 \n",
      "dtypes: int64(7), object(4)\n",
      "memory usage: 842.6+ KB\n"
     ]
    }
   ],
   "source": [
    "df.info()"
   ]
  },
  {
   "attachments": {},
   "cell_type": "markdown",
   "metadata": {},
   "source": [
    "### ***2.2. Проверка на отсутствующие значения***"
   ]
  },
  {
   "cell_type": "code",
   "execution_count": 6,
   "metadata": {},
   "outputs": [
    {
     "data": {
      "text/plain": [
       "client_id                0\n",
       "DIR                      0\n",
       "Age                      0\n",
       "NumLoans                 0\n",
       "NumRealEstateLoans       0\n",
       "NumDependents            0\n",
       "Num30.59Delinquencies    0\n",
       "Num60.89Delinquencies    0\n",
       "Income                   0\n",
       "BalanceToCreditLimit     0\n",
       "Delinquent90             0\n",
       "dtype: int64"
      ]
     },
     "execution_count": 6,
     "metadata": {},
     "output_type": "execute_result"
    }
   ],
   "source": [
    "df.isnull().sum()"
   ]
  },
  {
   "attachments": {},
   "cell_type": "markdown",
   "metadata": {},
   "source": [
    "## ***3. Подготовка данных***"
   ]
  },
  {
   "cell_type": "code",
   "execution_count": 10,
   "metadata": {},
   "outputs": [
    {
     "data": {
      "text/html": [
       "<div>\n",
       "<style scoped>\n",
       "    .dataframe tbody tr th:only-of-type {\n",
       "        vertical-align: middle;\n",
       "    }\n",
       "\n",
       "    .dataframe tbody tr th {\n",
       "        vertical-align: top;\n",
       "    }\n",
       "\n",
       "    .dataframe thead th {\n",
       "        text-align: right;\n",
       "    }\n",
       "</style>\n",
       "<table border=\"1\" class=\"dataframe\">\n",
       "  <thead>\n",
       "    <tr style=\"text-align: right;\">\n",
       "      <th></th>\n",
       "      <th>client_id</th>\n",
       "      <th>DIR</th>\n",
       "      <th>Age</th>\n",
       "      <th>NumLoans</th>\n",
       "      <th>NumRealEstateLoans</th>\n",
       "      <th>NumDependents</th>\n",
       "      <th>Num30.59Delinquencies</th>\n",
       "      <th>Num60.89Delinquencies</th>\n",
       "      <th>Income</th>\n",
       "      <th>BalanceToCreditLimit</th>\n",
       "      <th>Delinquent90</th>\n",
       "    </tr>\n",
       "  </thead>\n",
       "  <tbody>\n",
       "    <tr>\n",
       "      <th>0</th>\n",
       "      <td>33</td>\n",
       "      <td>0.229227</td>\n",
       "      <td>34.2</td>\n",
       "      <td>5</td>\n",
       "      <td>0</td>\n",
       "      <td>3</td>\n",
       "      <td>0</td>\n",
       "      <td>0</td>\n",
       "      <td>4365.787145</td>\n",
       "      <td>0.614501</td>\n",
       "      <td>0</td>\n",
       "    </tr>\n",
       "    <tr>\n",
       "      <th>1</th>\n",
       "      <td>34</td>\n",
       "      <td>1.088303</td>\n",
       "      <td>31.3</td>\n",
       "      <td>10</td>\n",
       "      <td>2</td>\n",
       "      <td>1</td>\n",
       "      <td>0</td>\n",
       "      <td>0</td>\n",
       "      <td>3042.931440</td>\n",
       "      <td>0.334460</td>\n",
       "      <td>1</td>\n",
       "    </tr>\n",
       "    <tr>\n",
       "      <th>2</th>\n",
       "      <td>48</td>\n",
       "      <td>0.000000</td>\n",
       "      <td>40.3</td>\n",
       "      <td>12</td>\n",
       "      <td>0</td>\n",
       "      <td>0</td>\n",
       "      <td>0</td>\n",
       "      <td>0</td>\n",
       "      <td>5236.071398</td>\n",
       "      <td>0.000048</td>\n",
       "      <td>0</td>\n",
       "    </tr>\n",
       "    <tr>\n",
       "      <th>3</th>\n",
       "      <td>51</td>\n",
       "      <td>0.085763</td>\n",
       "      <td>62.4</td>\n",
       "      <td>5</td>\n",
       "      <td>0</td>\n",
       "      <td>0</td>\n",
       "      <td>0</td>\n",
       "      <td>0</td>\n",
       "      <td>7715.104911</td>\n",
       "      <td>0.367092</td>\n",
       "      <td>0</td>\n",
       "    </tr>\n",
       "    <tr>\n",
       "      <th>4</th>\n",
       "      <td>53</td>\n",
       "      <td>0.340004</td>\n",
       "      <td>31.1</td>\n",
       "      <td>14</td>\n",
       "      <td>1</td>\n",
       "      <td>0</td>\n",
       "      <td>0</td>\n",
       "      <td>0</td>\n",
       "      <td>10987.846110</td>\n",
       "      <td>0.394608</td>\n",
       "      <td>0</td>\n",
       "    </tr>\n",
       "  </tbody>\n",
       "</table>\n",
       "</div>"
      ],
      "text/plain": [
       "   client_id       DIR   Age  NumLoans  NumRealEstateLoans  NumDependents   \n",
       "0         33  0.229227  34.2         5                   0              3  \\\n",
       "1         34  1.088303  31.3        10                   2              1   \n",
       "2         48  0.000000  40.3        12                   0              0   \n",
       "3         51  0.085763  62.4         5                   0              0   \n",
       "4         53  0.340004  31.1        14                   1              0   \n",
       "\n",
       "   Num30.59Delinquencies  Num60.89Delinquencies        Income   \n",
       "0                      0                      0   4365.787145  \\\n",
       "1                      0                      0   3042.931440   \n",
       "2                      0                      0   5236.071398   \n",
       "3                      0                      0   7715.104911   \n",
       "4                      0                      0  10987.846110   \n",
       "\n",
       "   BalanceToCreditLimit  Delinquent90  \n",
       "0              0.614501             0  \n",
       "1              0.334460             1  \n",
       "2              0.000048             0  \n",
       "3              0.367092             0  \n",
       "4              0.394608             0  "
      ]
     },
     "execution_count": 10,
     "metadata": {},
     "output_type": "execute_result"
    }
   ],
   "source": [
    "for column in df.select_dtypes(include='object').columns:\n",
    "    df[column] = df[column].str.replace(',', '.').astype(float)\n",
    "\n",
    "df.head()"
   ]
  },
  {
   "cell_type": "code",
   "execution_count": 11,
   "metadata": {},
   "outputs": [],
   "source": [
    "from sklearn.model_selection import train_test_split\n",
    "\n",
    "x = df.drop('Delinquent90', axis=1)\n",
    "y = df['Delinquent90']\n",
    "\n",
    "x_train, x_test, y_train, y_test = train_test_split(x, y, test_size=0.2, random_state=42)"
   ]
  },
  {
   "cell_type": "code",
   "execution_count": 12,
   "metadata": {},
   "outputs": [],
   "source": [
    "from sklearn.preprocessing import StandardScaler\n",
    "\n",
    "scaler = StandardScaler()\n",
    "x_train_scaled = scaler.fit_transform(x_train)\n",
    "x_test_scaled = scaler.transform(x_test)"
   ]
  },
  {
   "attachments": {},
   "cell_type": "markdown",
   "metadata": {},
   "source": [
    "## ***4. Построение и обучение моделей***"
   ]
  },
  {
   "cell_type": "code",
   "execution_count": 13,
   "metadata": {},
   "outputs": [],
   "source": [
    "from tensorflow import keras\n",
    "from tensorflow.keras import layers\n",
    "from sklearn.tree import DecisionTreeClassifier\n",
    "from sklearn.ensemble import RandomForestClassifier\n",
    "from sklearn.linear_model import LogisticRegression"
   ]
  },
  {
   "attachments": {},
   "cell_type": "markdown",
   "metadata": {},
   "source": [
    "### ***4.1. Нейросеть с первой архитектурой***"
   ]
  },
  {
   "cell_type": "code",
   "execution_count": 14,
   "metadata": {},
   "outputs": [
    {
     "name": "stdout",
     "output_type": "stream",
     "text": [
      "Metal device set to: Apple M1 Max\n",
      "Epoch 1/10\n"
     ]
    },
    {
     "name": "stderr",
     "output_type": "stream",
     "text": [
      "2023-05-16 20:51:08.766067: W tensorflow/tsl/platform/profile_utils/cpu_utils.cc:128] Failed to get CPU frequency: 0 Hz\n"
     ]
    },
    {
     "name": "stdout",
     "output_type": "stream",
     "text": [
      "246/246 [==============================] - 5s 11ms/step - loss: 0.2507 - accuracy: 0.9267 - val_loss: 0.1939 - val_accuracy: 0.9363\n",
      "Epoch 2/10\n",
      "246/246 [==============================] - 2s 7ms/step - loss: 0.1919 - accuracy: 0.9390 - val_loss: 0.1908 - val_accuracy: 0.9393\n",
      "Epoch 3/10\n",
      "246/246 [==============================] - 2s 8ms/step - loss: 0.1877 - accuracy: 0.9416 - val_loss: 0.1865 - val_accuracy: 0.9424\n",
      "Epoch 4/10\n",
      "246/246 [==============================] - 2s 8ms/step - loss: 0.1840 - accuracy: 0.9422 - val_loss: 0.1858 - val_accuracy: 0.9388\n",
      "Epoch 5/10\n",
      "246/246 [==============================] - 2s 8ms/step - loss: 0.1812 - accuracy: 0.9422 - val_loss: 0.1887 - val_accuracy: 0.9368\n",
      "Epoch 6/10\n",
      "246/246 [==============================] - 2s 8ms/step - loss: 0.1804 - accuracy: 0.9434 - val_loss: 0.1862 - val_accuracy: 0.9414\n",
      "Epoch 7/10\n",
      "246/246 [==============================] - 2s 7ms/step - loss: 0.1785 - accuracy: 0.9430 - val_loss: 0.1855 - val_accuracy: 0.9414\n",
      "Epoch 8/10\n",
      "246/246 [==============================] - 2s 7ms/step - loss: 0.1771 - accuracy: 0.9435 - val_loss: 0.1848 - val_accuracy: 0.9393\n",
      "Epoch 9/10\n",
      "246/246 [==============================] - 2s 8ms/step - loss: 0.1755 - accuracy: 0.9434 - val_loss: 0.1877 - val_accuracy: 0.9383\n",
      "Epoch 10/10\n",
      "246/246 [==============================] - 2s 8ms/step - loss: 0.1749 - accuracy: 0.9440 - val_loss: 0.1852 - val_accuracy: 0.9408\n"
     ]
    },
    {
     "data": {
      "text/plain": [
       "<keras.callbacks.History at 0x2a3cbbc10>"
      ]
     },
     "execution_count": 14,
     "metadata": {},
     "output_type": "execute_result"
    }
   ],
   "source": [
    "model_nn1 = keras.Sequential([\n",
    "    layers.Dense(64, activation='relu', input_shape=(x_train_scaled.shape[1],)),\n",
    "    layers.Dense(32, activation='relu'),\n",
    "    layers.Dense(1, activation='sigmoid')\n",
    "])\n",
    "\n",
    "model_nn1.compile(optimizer='adam', loss='binary_crossentropy', metrics=['accuracy'])\n",
    "model_nn1.fit(x_train_scaled, y_train, epochs=10, batch_size=32, validation_data=(x_test_scaled, y_test))\n"
   ]
  },
  {
   "attachments": {},
   "cell_type": "markdown",
   "metadata": {},
   "source": [
    "### ***4.2. Дерево решений***"
   ]
  },
  {
   "cell_type": "code",
   "execution_count": 15,
   "metadata": {},
   "outputs": [
    {
     "data": {
      "text/html": [
       "<style>#sk-container-id-1 {color: black;background-color: white;}#sk-container-id-1 pre{padding: 0;}#sk-container-id-1 div.sk-toggleable {background-color: white;}#sk-container-id-1 label.sk-toggleable__label {cursor: pointer;display: block;width: 100%;margin-bottom: 0;padding: 0.3em;box-sizing: border-box;text-align: center;}#sk-container-id-1 label.sk-toggleable__label-arrow:before {content: \"▸\";float: left;margin-right: 0.25em;color: #696969;}#sk-container-id-1 label.sk-toggleable__label-arrow:hover:before {color: black;}#sk-container-id-1 div.sk-estimator:hover label.sk-toggleable__label-arrow:before {color: black;}#sk-container-id-1 div.sk-toggleable__content {max-height: 0;max-width: 0;overflow: hidden;text-align: left;background-color: #f0f8ff;}#sk-container-id-1 div.sk-toggleable__content pre {margin: 0.2em;color: black;border-radius: 0.25em;background-color: #f0f8ff;}#sk-container-id-1 input.sk-toggleable__control:checked~div.sk-toggleable__content {max-height: 200px;max-width: 100%;overflow: auto;}#sk-container-id-1 input.sk-toggleable__control:checked~label.sk-toggleable__label-arrow:before {content: \"▾\";}#sk-container-id-1 div.sk-estimator input.sk-toggleable__control:checked~label.sk-toggleable__label {background-color: #d4ebff;}#sk-container-id-1 div.sk-label input.sk-toggleable__control:checked~label.sk-toggleable__label {background-color: #d4ebff;}#sk-container-id-1 input.sk-hidden--visually {border: 0;clip: rect(1px 1px 1px 1px);clip: rect(1px, 1px, 1px, 1px);height: 1px;margin: -1px;overflow: hidden;padding: 0;position: absolute;width: 1px;}#sk-container-id-1 div.sk-estimator {font-family: monospace;background-color: #f0f8ff;border: 1px dotted black;border-radius: 0.25em;box-sizing: border-box;margin-bottom: 0.5em;}#sk-container-id-1 div.sk-estimator:hover {background-color: #d4ebff;}#sk-container-id-1 div.sk-parallel-item::after {content: \"\";width: 100%;border-bottom: 1px solid gray;flex-grow: 1;}#sk-container-id-1 div.sk-label:hover label.sk-toggleable__label {background-color: #d4ebff;}#sk-container-id-1 div.sk-serial::before {content: \"\";position: absolute;border-left: 1px solid gray;box-sizing: border-box;top: 0;bottom: 0;left: 50%;z-index: 0;}#sk-container-id-1 div.sk-serial {display: flex;flex-direction: column;align-items: center;background-color: white;padding-right: 0.2em;padding-left: 0.2em;position: relative;}#sk-container-id-1 div.sk-item {position: relative;z-index: 1;}#sk-container-id-1 div.sk-parallel {display: flex;align-items: stretch;justify-content: center;background-color: white;position: relative;}#sk-container-id-1 div.sk-item::before, #sk-container-id-1 div.sk-parallel-item::before {content: \"\";position: absolute;border-left: 1px solid gray;box-sizing: border-box;top: 0;bottom: 0;left: 50%;z-index: -1;}#sk-container-id-1 div.sk-parallel-item {display: flex;flex-direction: column;z-index: 1;position: relative;background-color: white;}#sk-container-id-1 div.sk-parallel-item:first-child::after {align-self: flex-end;width: 50%;}#sk-container-id-1 div.sk-parallel-item:last-child::after {align-self: flex-start;width: 50%;}#sk-container-id-1 div.sk-parallel-item:only-child::after {width: 0;}#sk-container-id-1 div.sk-dashed-wrapped {border: 1px dashed gray;margin: 0 0.4em 0.5em 0.4em;box-sizing: border-box;padding-bottom: 0.4em;background-color: white;}#sk-container-id-1 div.sk-label label {font-family: monospace;font-weight: bold;display: inline-block;line-height: 1.2em;}#sk-container-id-1 div.sk-label-container {text-align: center;}#sk-container-id-1 div.sk-container {/* jupyter's `normalize.less` sets `[hidden] { display: none; }` but bootstrap.min.css set `[hidden] { display: none !important; }` so we also need the `!important` here to be able to override the default hidden behavior on the sphinx rendered scikit-learn.org. See: https://github.com/scikit-learn/scikit-learn/issues/21755 */display: inline-block !important;position: relative;}#sk-container-id-1 div.sk-text-repr-fallback {display: none;}</style><div id=\"sk-container-id-1\" class=\"sk-top-container\"><div class=\"sk-text-repr-fallback\"><pre>DecisionTreeClassifier()</pre><b>In a Jupyter environment, please rerun this cell to show the HTML representation or trust the notebook. <br />On GitHub, the HTML representation is unable to render, please try loading this page with nbviewer.org.</b></div><div class=\"sk-container\" hidden><div class=\"sk-item\"><div class=\"sk-estimator sk-toggleable\"><input class=\"sk-toggleable__control sk-hidden--visually\" id=\"sk-estimator-id-1\" type=\"checkbox\" checked><label for=\"sk-estimator-id-1\" class=\"sk-toggleable__label sk-toggleable__label-arrow\">DecisionTreeClassifier</label><div class=\"sk-toggleable__content\"><pre>DecisionTreeClassifier()</pre></div></div></div></div></div>"
      ],
      "text/plain": [
       "DecisionTreeClassifier()"
      ]
     },
     "execution_count": 15,
     "metadata": {},
     "output_type": "execute_result"
    }
   ],
   "source": [
    "model_tree = DecisionTreeClassifier()\n",
    "model_tree.fit(x_train_scaled, y_train)"
   ]
  },
  {
   "attachments": {},
   "cell_type": "markdown",
   "metadata": {},
   "source": [
    "### ***4.3. Лес деревьев решений***"
   ]
  },
  {
   "cell_type": "code",
   "execution_count": 16,
   "metadata": {},
   "outputs": [
    {
     "data": {
      "text/html": [
       "<style>#sk-container-id-2 {color: black;background-color: white;}#sk-container-id-2 pre{padding: 0;}#sk-container-id-2 div.sk-toggleable {background-color: white;}#sk-container-id-2 label.sk-toggleable__label {cursor: pointer;display: block;width: 100%;margin-bottom: 0;padding: 0.3em;box-sizing: border-box;text-align: center;}#sk-container-id-2 label.sk-toggleable__label-arrow:before {content: \"▸\";float: left;margin-right: 0.25em;color: #696969;}#sk-container-id-2 label.sk-toggleable__label-arrow:hover:before {color: black;}#sk-container-id-2 div.sk-estimator:hover label.sk-toggleable__label-arrow:before {color: black;}#sk-container-id-2 div.sk-toggleable__content {max-height: 0;max-width: 0;overflow: hidden;text-align: left;background-color: #f0f8ff;}#sk-container-id-2 div.sk-toggleable__content pre {margin: 0.2em;color: black;border-radius: 0.25em;background-color: #f0f8ff;}#sk-container-id-2 input.sk-toggleable__control:checked~div.sk-toggleable__content {max-height: 200px;max-width: 100%;overflow: auto;}#sk-container-id-2 input.sk-toggleable__control:checked~label.sk-toggleable__label-arrow:before {content: \"▾\";}#sk-container-id-2 div.sk-estimator input.sk-toggleable__control:checked~label.sk-toggleable__label {background-color: #d4ebff;}#sk-container-id-2 div.sk-label input.sk-toggleable__control:checked~label.sk-toggleable__label {background-color: #d4ebff;}#sk-container-id-2 input.sk-hidden--visually {border: 0;clip: rect(1px 1px 1px 1px);clip: rect(1px, 1px, 1px, 1px);height: 1px;margin: -1px;overflow: hidden;padding: 0;position: absolute;width: 1px;}#sk-container-id-2 div.sk-estimator {font-family: monospace;background-color: #f0f8ff;border: 1px dotted black;border-radius: 0.25em;box-sizing: border-box;margin-bottom: 0.5em;}#sk-container-id-2 div.sk-estimator:hover {background-color: #d4ebff;}#sk-container-id-2 div.sk-parallel-item::after {content: \"\";width: 100%;border-bottom: 1px solid gray;flex-grow: 1;}#sk-container-id-2 div.sk-label:hover label.sk-toggleable__label {background-color: #d4ebff;}#sk-container-id-2 div.sk-serial::before {content: \"\";position: absolute;border-left: 1px solid gray;box-sizing: border-box;top: 0;bottom: 0;left: 50%;z-index: 0;}#sk-container-id-2 div.sk-serial {display: flex;flex-direction: column;align-items: center;background-color: white;padding-right: 0.2em;padding-left: 0.2em;position: relative;}#sk-container-id-2 div.sk-item {position: relative;z-index: 1;}#sk-container-id-2 div.sk-parallel {display: flex;align-items: stretch;justify-content: center;background-color: white;position: relative;}#sk-container-id-2 div.sk-item::before, #sk-container-id-2 div.sk-parallel-item::before {content: \"\";position: absolute;border-left: 1px solid gray;box-sizing: border-box;top: 0;bottom: 0;left: 50%;z-index: -1;}#sk-container-id-2 div.sk-parallel-item {display: flex;flex-direction: column;z-index: 1;position: relative;background-color: white;}#sk-container-id-2 div.sk-parallel-item:first-child::after {align-self: flex-end;width: 50%;}#sk-container-id-2 div.sk-parallel-item:last-child::after {align-self: flex-start;width: 50%;}#sk-container-id-2 div.sk-parallel-item:only-child::after {width: 0;}#sk-container-id-2 div.sk-dashed-wrapped {border: 1px dashed gray;margin: 0 0.4em 0.5em 0.4em;box-sizing: border-box;padding-bottom: 0.4em;background-color: white;}#sk-container-id-2 div.sk-label label {font-family: monospace;font-weight: bold;display: inline-block;line-height: 1.2em;}#sk-container-id-2 div.sk-label-container {text-align: center;}#sk-container-id-2 div.sk-container {/* jupyter's `normalize.less` sets `[hidden] { display: none; }` but bootstrap.min.css set `[hidden] { display: none !important; }` so we also need the `!important` here to be able to override the default hidden behavior on the sphinx rendered scikit-learn.org. See: https://github.com/scikit-learn/scikit-learn/issues/21755 */display: inline-block !important;position: relative;}#sk-container-id-2 div.sk-text-repr-fallback {display: none;}</style><div id=\"sk-container-id-2\" class=\"sk-top-container\"><div class=\"sk-text-repr-fallback\"><pre>RandomForestClassifier()</pre><b>In a Jupyter environment, please rerun this cell to show the HTML representation or trust the notebook. <br />On GitHub, the HTML representation is unable to render, please try loading this page with nbviewer.org.</b></div><div class=\"sk-container\" hidden><div class=\"sk-item\"><div class=\"sk-estimator sk-toggleable\"><input class=\"sk-toggleable__control sk-hidden--visually\" id=\"sk-estimator-id-2\" type=\"checkbox\" checked><label for=\"sk-estimator-id-2\" class=\"sk-toggleable__label sk-toggleable__label-arrow\">RandomForestClassifier</label><div class=\"sk-toggleable__content\"><pre>RandomForestClassifier()</pre></div></div></div></div></div>"
      ],
      "text/plain": [
       "RandomForestClassifier()"
      ]
     },
     "execution_count": 16,
     "metadata": {},
     "output_type": "execute_result"
    }
   ],
   "source": [
    "model_forest = RandomForestClassifier()\n",
    "model_forest.fit(x_train_scaled, y_train)"
   ]
  },
  {
   "attachments": {},
   "cell_type": "markdown",
   "metadata": {},
   "source": [
    "### ***4.4. Логистическая регрессия***"
   ]
  },
  {
   "cell_type": "code",
   "execution_count": 17,
   "metadata": {},
   "outputs": [
    {
     "data": {
      "text/html": [
       "<style>#sk-container-id-3 {color: black;background-color: white;}#sk-container-id-3 pre{padding: 0;}#sk-container-id-3 div.sk-toggleable {background-color: white;}#sk-container-id-3 label.sk-toggleable__label {cursor: pointer;display: block;width: 100%;margin-bottom: 0;padding: 0.3em;box-sizing: border-box;text-align: center;}#sk-container-id-3 label.sk-toggleable__label-arrow:before {content: \"▸\";float: left;margin-right: 0.25em;color: #696969;}#sk-container-id-3 label.sk-toggleable__label-arrow:hover:before {color: black;}#sk-container-id-3 div.sk-estimator:hover label.sk-toggleable__label-arrow:before {color: black;}#sk-container-id-3 div.sk-toggleable__content {max-height: 0;max-width: 0;overflow: hidden;text-align: left;background-color: #f0f8ff;}#sk-container-id-3 div.sk-toggleable__content pre {margin: 0.2em;color: black;border-radius: 0.25em;background-color: #f0f8ff;}#sk-container-id-3 input.sk-toggleable__control:checked~div.sk-toggleable__content {max-height: 200px;max-width: 100%;overflow: auto;}#sk-container-id-3 input.sk-toggleable__control:checked~label.sk-toggleable__label-arrow:before {content: \"▾\";}#sk-container-id-3 div.sk-estimator input.sk-toggleable__control:checked~label.sk-toggleable__label {background-color: #d4ebff;}#sk-container-id-3 div.sk-label input.sk-toggleable__control:checked~label.sk-toggleable__label {background-color: #d4ebff;}#sk-container-id-3 input.sk-hidden--visually {border: 0;clip: rect(1px 1px 1px 1px);clip: rect(1px, 1px, 1px, 1px);height: 1px;margin: -1px;overflow: hidden;padding: 0;position: absolute;width: 1px;}#sk-container-id-3 div.sk-estimator {font-family: monospace;background-color: #f0f8ff;border: 1px dotted black;border-radius: 0.25em;box-sizing: border-box;margin-bottom: 0.5em;}#sk-container-id-3 div.sk-estimator:hover {background-color: #d4ebff;}#sk-container-id-3 div.sk-parallel-item::after {content: \"\";width: 100%;border-bottom: 1px solid gray;flex-grow: 1;}#sk-container-id-3 div.sk-label:hover label.sk-toggleable__label {background-color: #d4ebff;}#sk-container-id-3 div.sk-serial::before {content: \"\";position: absolute;border-left: 1px solid gray;box-sizing: border-box;top: 0;bottom: 0;left: 50%;z-index: 0;}#sk-container-id-3 div.sk-serial {display: flex;flex-direction: column;align-items: center;background-color: white;padding-right: 0.2em;padding-left: 0.2em;position: relative;}#sk-container-id-3 div.sk-item {position: relative;z-index: 1;}#sk-container-id-3 div.sk-parallel {display: flex;align-items: stretch;justify-content: center;background-color: white;position: relative;}#sk-container-id-3 div.sk-item::before, #sk-container-id-3 div.sk-parallel-item::before {content: \"\";position: absolute;border-left: 1px solid gray;box-sizing: border-box;top: 0;bottom: 0;left: 50%;z-index: -1;}#sk-container-id-3 div.sk-parallel-item {display: flex;flex-direction: column;z-index: 1;position: relative;background-color: white;}#sk-container-id-3 div.sk-parallel-item:first-child::after {align-self: flex-end;width: 50%;}#sk-container-id-3 div.sk-parallel-item:last-child::after {align-self: flex-start;width: 50%;}#sk-container-id-3 div.sk-parallel-item:only-child::after {width: 0;}#sk-container-id-3 div.sk-dashed-wrapped {border: 1px dashed gray;margin: 0 0.4em 0.5em 0.4em;box-sizing: border-box;padding-bottom: 0.4em;background-color: white;}#sk-container-id-3 div.sk-label label {font-family: monospace;font-weight: bold;display: inline-block;line-height: 1.2em;}#sk-container-id-3 div.sk-label-container {text-align: center;}#sk-container-id-3 div.sk-container {/* jupyter's `normalize.less` sets `[hidden] { display: none; }` but bootstrap.min.css set `[hidden] { display: none !important; }` so we also need the `!important` here to be able to override the default hidden behavior on the sphinx rendered scikit-learn.org. See: https://github.com/scikit-learn/scikit-learn/issues/21755 */display: inline-block !important;position: relative;}#sk-container-id-3 div.sk-text-repr-fallback {display: none;}</style><div id=\"sk-container-id-3\" class=\"sk-top-container\"><div class=\"sk-text-repr-fallback\"><pre>LogisticRegression()</pre><b>In a Jupyter environment, please rerun this cell to show the HTML representation or trust the notebook. <br />On GitHub, the HTML representation is unable to render, please try loading this page with nbviewer.org.</b></div><div class=\"sk-container\" hidden><div class=\"sk-item\"><div class=\"sk-estimator sk-toggleable\"><input class=\"sk-toggleable__control sk-hidden--visually\" id=\"sk-estimator-id-3\" type=\"checkbox\" checked><label for=\"sk-estimator-id-3\" class=\"sk-toggleable__label sk-toggleable__label-arrow\">LogisticRegression</label><div class=\"sk-toggleable__content\"><pre>LogisticRegression()</pre></div></div></div></div></div>"
      ],
      "text/plain": [
       "LogisticRegression()"
      ]
     },
     "execution_count": 17,
     "metadata": {},
     "output_type": "execute_result"
    }
   ],
   "source": [
    "model_lr = LogisticRegression()\n",
    "model_lr.fit(x_train_scaled, y_train)"
   ]
  },
  {
   "attachments": {},
   "cell_type": "markdown",
   "metadata": {},
   "source": [
    "### ***4.5. Нейронная сеть со второй архитектурой***"
   ]
  },
  {
   "cell_type": "code",
   "execution_count": 18,
   "metadata": {},
   "outputs": [
    {
     "name": "stdout",
     "output_type": "stream",
     "text": [
      "Epoch 1/10\n",
      "246/246 [==============================] - 3s 10ms/step - loss: 0.2244 - accuracy: 0.9343 - val_loss: 0.1915 - val_accuracy: 0.9393\n",
      "Epoch 2/10\n",
      "246/246 [==============================] - 2s 8ms/step - loss: 0.1891 - accuracy: 0.9385 - val_loss: 0.1866 - val_accuracy: 0.9398\n",
      "Epoch 3/10\n",
      "246/246 [==============================] - 2s 8ms/step - loss: 0.1822 - accuracy: 0.9422 - val_loss: 0.1844 - val_accuracy: 0.9414\n",
      "Epoch 4/10\n",
      "246/246 [==============================] - 2s 8ms/step - loss: 0.1800 - accuracy: 0.9408 - val_loss: 0.1859 - val_accuracy: 0.9414\n",
      "Epoch 5/10\n",
      "246/246 [==============================] - 2s 8ms/step - loss: 0.1788 - accuracy: 0.9436 - val_loss: 0.1877 - val_accuracy: 0.9398\n",
      "Epoch 6/10\n",
      "246/246 [==============================] - 2s 9ms/step - loss: 0.1760 - accuracy: 0.9450 - val_loss: 0.1882 - val_accuracy: 0.9393\n",
      "Epoch 7/10\n",
      "246/246 [==============================] - 2s 8ms/step - loss: 0.1732 - accuracy: 0.9444 - val_loss: 0.1880 - val_accuracy: 0.9434\n",
      "Epoch 8/10\n",
      "246/246 [==============================] - 2s 8ms/step - loss: 0.1716 - accuracy: 0.9459 - val_loss: 0.1929 - val_accuracy: 0.9383\n",
      "Epoch 9/10\n",
      "246/246 [==============================] - 2s 8ms/step - loss: 0.1711 - accuracy: 0.9455 - val_loss: 0.1885 - val_accuracy: 0.9424\n",
      "Epoch 10/10\n",
      "246/246 [==============================] - 2s 8ms/step - loss: 0.1693 - accuracy: 0.9458 - val_loss: 0.1849 - val_accuracy: 0.9414\n"
     ]
    },
    {
     "data": {
      "text/plain": [
       "<keras.callbacks.History at 0x2af51b580>"
      ]
     },
     "execution_count": 18,
     "metadata": {},
     "output_type": "execute_result"
    }
   ],
   "source": [
    "model_nn2 = keras.Sequential([\n",
    "    layers.Dense(64, activation='relu', input_shape=(x_train_scaled.shape[1],)),\n",
    "    layers.Dense(128, activation='relu'),\n",
    "    layers.Dense(64, activation='relu'),\n",
    "    layers.Dense(1, activation='sigmoid')\n",
    "])\n",
    "\n",
    "model_nn2.compile(optimizer='adam', loss='binary_crossentropy', metrics=['accuracy'])\n",
    "model_nn2.fit(x_train_scaled, y_train, epochs=10, batch_size=32, validation_data=(x_test_scaled, y_test))"
   ]
  },
  {
   "attachments": {},
   "cell_type": "markdown",
   "metadata": {},
   "source": [
    "## ***5. Оценка производительности***"
   ]
  },
  {
   "cell_type": "code",
   "execution_count": 19,
   "metadata": {},
   "outputs": [],
   "source": [
    "from sklearn.metrics import classification_report"
   ]
  },
  {
   "attachments": {},
   "cell_type": "markdown",
   "metadata": {},
   "source": [
    "### ***5.1. Оценка первой нейронной сети***"
   ]
  },
  {
   "cell_type": "code",
   "execution_count": 32,
   "metadata": {},
   "outputs": [
    {
     "name": "stdout",
     "output_type": "stream",
     "text": [
      "62/62 [==============================] - 0s 2ms/step\n",
      "Метрики ошибки для первой нейросети (Model_nn1):\n",
      "              precision    recall  f1-score   support\n",
      "\n",
      "           0       0.95      0.99      0.97      1829\n",
      "           1       0.65      0.27      0.38       132\n",
      "\n",
      "    accuracy                           0.94      1961\n",
      "   macro avg       0.80      0.63      0.67      1961\n",
      "weighted avg       0.93      0.94      0.93      1961\n",
      "\n"
     ]
    }
   ],
   "source": [
    "y_pred_nn1 = model_nn1.predict(x_test_scaled)\n",
    "y_pred_nn1 = (y_pred_nn1 > 0.5).astype(int)\n",
    "classification_report_nn1 = classification_report(y_test, y_pred_nn1)\n",
    "\n",
    "print(\"Метрики ошибки для первой нейросети (Model_nn1):\")\n",
    "print(classification_report_nn1)"
   ]
  },
  {
   "attachments": {},
   "cell_type": "markdown",
   "metadata": {},
   "source": [
    "### ***5.2. Оценка второй нейронной сети***"
   ]
  },
  {
   "cell_type": "code",
   "execution_count": 22,
   "metadata": {},
   "outputs": [
    {
     "name": "stdout",
     "output_type": "stream",
     "text": [
      "62/62 [==============================] - 0s 2ms/step\n",
      "Метрики ошибки для второй нейросети (Model_nn2):\n",
      "              precision    recall  f1-score   support\n",
      "\n",
      "           0       0.95      0.99      0.97      1829\n",
      "           1       0.72      0.21      0.33       132\n",
      "\n",
      "    accuracy                           0.94      1961\n",
      "   macro avg       0.83      0.60      0.65      1961\n",
      "weighted avg       0.93      0.94      0.93      1961\n",
      "\n"
     ]
    }
   ],
   "source": [
    "y_pred_nn2 = model_nn2.predict(x_test_scaled)\n",
    "y_pred_nn2 = (y_pred_nn2 > 0.5).astype(int)\n",
    "classification_report_nn2 = classification_report(y_test, y_pred_nn2)\n",
    "\n",
    "print(\"Метрики ошибки для второй нейросети (Model_nn2):\")\n",
    "print(classification_report_nn2)"
   ]
  },
  {
   "attachments": {},
   "cell_type": "markdown",
   "metadata": {},
   "source": [
    "### ***5.3. Оценка дерева решений***"
   ]
  },
  {
   "cell_type": "code",
   "execution_count": 23,
   "metadata": {},
   "outputs": [
    {
     "name": "stdout",
     "output_type": "stream",
     "text": [
      "Метрики ошибки для дерева решений:\n",
      "              precision    recall  f1-score   support\n",
      "\n",
      "           0       0.95      0.94      0.94      1829\n",
      "           1       0.28      0.34      0.31       132\n",
      "\n",
      "    accuracy                           0.90      1961\n",
      "   macro avg       0.62      0.64      0.63      1961\n",
      "weighted avg       0.91      0.90      0.90      1961\n",
      "\n"
     ]
    }
   ],
   "source": [
    "y_pred_tree = model_tree.predict(x_test_scaled)\n",
    "classification_report_tree = classification_report(y_test, y_pred_tree)\n",
    "\n",
    "print(\"Метрики ошибки для дерева решений:\")\n",
    "print(classification_report_tree)"
   ]
  },
  {
   "attachments": {},
   "cell_type": "markdown",
   "metadata": {},
   "source": [
    "### ***5.4. Оценка леса деревьев решений***"
   ]
  },
  {
   "cell_type": "code",
   "execution_count": 24,
   "metadata": {},
   "outputs": [
    {
     "name": "stdout",
     "output_type": "stream",
     "text": [
      "Метрики ошибки для леса деревьев решений:\n",
      "              precision    recall  f1-score   support\n",
      "\n",
      "           0       0.95      0.99      0.97      1829\n",
      "           1       0.61      0.25      0.35       132\n",
      "\n",
      "    accuracy                           0.94      1961\n",
      "   macro avg       0.78      0.62      0.66      1961\n",
      "weighted avg       0.93      0.94      0.93      1961\n",
      "\n"
     ]
    }
   ],
   "source": [
    "y_pred_forest = model_forest.predict(x_test_scaled)\n",
    "classification_report_forest = classification_report(y_test, y_pred_forest)\n",
    "\n",
    "print(\"Метрики ошибки для леса деревьев решений:\")\n",
    "print(classification_report_forest)"
   ]
  },
  {
   "attachments": {},
   "cell_type": "markdown",
   "metadata": {},
   "source": [
    "### ***5.5. Оценка логистической регрессии***"
   ]
  },
  {
   "cell_type": "code",
   "execution_count": 25,
   "metadata": {},
   "outputs": [
    {
     "name": "stdout",
     "output_type": "stream",
     "text": [
      "Метрики ошибки для логистической регрессии:\n",
      "              precision    recall  f1-score   support\n",
      "\n",
      "           0       0.95      0.99      0.97      1829\n",
      "           1       0.71      0.26      0.38       132\n",
      "\n",
      "    accuracy                           0.94      1961\n",
      "   macro avg       0.83      0.62      0.67      1961\n",
      "weighted avg       0.93      0.94      0.93      1961\n",
      "\n"
     ]
    }
   ],
   "source": [
    "y_pred_lr = model_lr.predict(x_test_scaled)\n",
    "classification_report_lr = classification_report(y_test, y_pred_lr)\n",
    "\n",
    "print(\"Метрики ошибки для логистической регрессии:\")\n",
    "print(classification_report_lr)"
   ]
  },
  {
   "attachments": {},
   "cell_type": "markdown",
   "metadata": {},
   "source": [
    "## ***6. Сравнение результатов***"
   ]
  },
  {
   "cell_type": "code",
   "execution_count": 43,
   "metadata": {},
   "outputs": [
    {
     "data": {
      "text/html": [
       "<div>\n",
       "<style scoped>\n",
       "    .dataframe tbody tr th:only-of-type {\n",
       "        vertical-align: middle;\n",
       "    }\n",
       "\n",
       "    .dataframe tbody tr th {\n",
       "        vertical-align: top;\n",
       "    }\n",
       "\n",
       "    .dataframe thead th {\n",
       "        text-align: right;\n",
       "    }\n",
       "</style>\n",
       "<table border=\"1\" class=\"dataframe\">\n",
       "  <thead>\n",
       "    <tr style=\"text-align: right;\">\n",
       "      <th></th>\n",
       "      <th>Модель</th>\n",
       "      <th>Точность</th>\n",
       "      <th>Полнота</th>\n",
       "      <th>F1-мера</th>\n",
       "    </tr>\n",
       "  </thead>\n",
       "  <tbody>\n",
       "    <tr>\n",
       "      <th>0</th>\n",
       "      <td>Model_nn1</td>\n",
       "      <td>0.648148</td>\n",
       "      <td>0.265152</td>\n",
       "      <td>0.376344</td>\n",
       "    </tr>\n",
       "    <tr>\n",
       "      <th>1</th>\n",
       "      <td>Model_nn2</td>\n",
       "      <td>0.717949</td>\n",
       "      <td>0.212121</td>\n",
       "      <td>0.327485</td>\n",
       "    </tr>\n",
       "    <tr>\n",
       "      <th>2</th>\n",
       "      <td>Дерево решений</td>\n",
       "      <td>0.281250</td>\n",
       "      <td>0.340909</td>\n",
       "      <td>0.308219</td>\n",
       "    </tr>\n",
       "    <tr>\n",
       "      <th>3</th>\n",
       "      <td>Лес деревьев решений</td>\n",
       "      <td>0.611111</td>\n",
       "      <td>0.250000</td>\n",
       "      <td>0.354839</td>\n",
       "    </tr>\n",
       "    <tr>\n",
       "      <th>4</th>\n",
       "      <td>Логистическая регрессия</td>\n",
       "      <td>0.708333</td>\n",
       "      <td>0.257576</td>\n",
       "      <td>0.377778</td>\n",
       "    </tr>\n",
       "  </tbody>\n",
       "</table>\n",
       "</div>"
      ],
      "text/plain": [
       "                    Модель  Точность   Полнота   F1-мера\n",
       "0                Model_nn1  0.648148  0.265152  0.376344\n",
       "1                Model_nn2  0.717949  0.212121  0.327485\n",
       "2           Дерево решений  0.281250  0.340909  0.308219\n",
       "3     Лес деревьев решений  0.611111  0.250000  0.354839\n",
       "4  Логистическая регрессия  0.708333  0.257576  0.377778"
      ]
     },
     "execution_count": 43,
     "metadata": {},
     "output_type": "execute_result"
    }
   ],
   "source": [
    "target_names = ['0', '1']\n",
    "\n",
    "report_nn1 = classification_report(y_test, y_pred_nn1, output_dict=True)\n",
    "report_nn2 = classification_report(y_test, y_pred_nn2, output_dict=True)\n",
    "report_tree = classification_report(y_test, y_pred_tree, target_names=target_names, output_dict=True)\n",
    "report_forest = classification_report(y_test, y_pred_forest, target_names=target_names, output_dict=True)\n",
    "report_lr = classification_report(y_test, y_pred_lr, target_names=target_names, output_dict=True)\n",
    "\n",
    "data = {'Модель': ['Model_nn1', 'Model_nn2', 'Дерево решений', 'Лес деревьев решений', 'Логистическая регрессия'],\n",
    "        'Точность': [report_nn1['1']['precision'], report_nn2['1']['precision'], report_tree['1']['precision'], report_forest['1']['precision'], report_lr['1']['precision']],\n",
    "        'Полнота': [report_nn1['1']['recall'], report_nn2['1']['recall'], report_tree['1']['recall'], report_forest['1']['recall'], report_lr['1']['recall']],\n",
    "        'F1-мера': [report_nn1['1']['f1-score'], report_nn2['1']['f1-score'], report_tree['1']['f1-score'], report_forest['1']['f1-score'], report_lr['1']['f1-score']]}\n",
    "df = pd.DataFrame(data)\n",
    "\n",
    "df"
   ]
  },
  {
   "attachments": {},
   "cell_type": "markdown",
   "metadata": {},
   "source": [
    "## 7. ***Выводы***\n",
    "\n",
    "* **Model_nn1 (первая нейросеть)** показывает низкую ***точность (0.648148)***, ***полноту (0.265152)*** и ***F1-меру (0.376344)***. Это означает, что модель имеет трудности в правильном определении проблемных клиентов, и доля ложных срабатываний (ложноположительных прогнозов) высока.\n",
    "\n",
    "* **Model_nn2 (вторая нейросеть)** также демонстрирует низкую ***точность (0.717949)***, ***полноту (0.212121)*** и ***F1-меру (0.327485)***. В сравнении с Model_nn1, она показывает незначительное улучшение в точности, но все еще имеет слабую способность обнаруживать проблемных клиентов.\n",
    "\n",
    "* **Дерево решений** имеет низкую ***точность (0.281250)***, но относительно высокую ***полноту (0.340909)*** и ***F1-меру (0.308219)***. Оно также страдает от низкой точности в предсказании проблемных клиентов.\n",
    "\n",
    "* **Лес деревьев** решений показывает лучшие результаты с ***точностью (0.611111)***, ***полнотой (0.250000)*** и ***F1-мерой (0.354839)*** в сравнении с предыдущими моделями, но все еще далеко от идеальных показателей.\n",
    "\n",
    "* **Логистическая регрессия** демонстрирует наилучшие результаты с ***точностью (0.708333)***, ***полнотой (0.257576)*** и ***F1-мерой (0.377778)***. Она показывает более сбалансированные результаты и лучше справляется с предсказанием проблемных клиентов.\n",
    "\n",
    "***Логистическая регрессия*** показывает наилучшую производительность среди представленных моделей. Ее высокая точность и F1-мера указывают на хорошую способность модели предсказывать проблемных клиентов, а также учитывать баланс между точностью и полнотой.\n",
    "\n",
    "Таким образом, на основе метрик ошибки, можно сделать выбор в пользу логистической регрессии как наиболее эффективного инструмента для решения задачи скоринга в данном случае."
   ]
  }
 ],
 "metadata": {
  "kernelspec": {
   "display_name": "Python 3 (ipykernel)",
   "language": "python",
   "name": "python3"
  },
  "language_info": {
   "codemirror_mode": {
    "name": "ipython",
    "version": 3
   },
   "file_extension": ".py",
   "mimetype": "text/x-python",
   "name": "python",
   "nbconvert_exporter": "python",
   "pygments_lexer": "ipython3",
   "version": "3.10.9"
  },
  "orig_nbformat": 4
 },
 "nbformat": 4,
 "nbformat_minor": 2
}
