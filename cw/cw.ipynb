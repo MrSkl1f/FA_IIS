{
 "cells": [
  {
   "attachments": {},
   "cell_type": "markdown",
   "metadata": {},
   "source": [
    "# **КОНТРОЛЬНАЯ РАБОТА**\n",
    "## Склифасовский Денис Олегович\t33 вариант\n",
    "### Пояснения\n",
    "В файлах по вариантам (csdataNN.csv, где NN соответствует вашему номеру варианта) находятся исходные данные. **В нечетных вариантах находятся данные для кредитного скоринга**, в четных – данные для оценки стоимости кристаллов фианита. Вам необходимо построить не менее 3 моделей и определить, какая из них лучшая.\n",
    "Контрольную работу можно выполнять в программе Deductor, а также, по желанию студента, в программе Loginom Academic или на языках R или Python.\n",
    "\n",
    "Модели должны быть неодинаковыми. Нужно применить разные инструменты (например, в Deductor варианты – линейная регрессия, логистическая регрессия, дерево решений, нейронная сеть). Допускается, чтобы две из трех моделей были построены на одном инструменте, но их параметры должны отличаться (например, две нейронных сети с разным числом слоев и нейронов).\n",
    "\n",
    "Сравните результаты обучения и выберите по этим результатам лучшую (для ваших данных) модель.\n",
    "\n",
    "### Описание данных\n",
    "\n",
    "Выходным полем является для задачи скоринга поле SeriousDlqin2yrs (Были ли в последние два года задержки платежа 2 года и более). Его значение – 1 (были -> плохой клиент) или 0 (не было -> хороший клиент). Остальные поля цифровые, входные (кроме поля RefNum, если оно есть – это условный номер). Их описание, если вам интересно, находится в конце этого документа в приложении.\n",
    "\n",
    "### Оформление результатов\n",
    "Вам нужно сдать два файла: собственно файл с моделями и файл MS Word с пояснениями. \n",
    "\n",
    "Файлы с исходными данными изменять нельзя, их вы не сдаете, при проверке я использую архивные копии.\n",
    "\n",
    "1. **Файл с моделями** - результаты представляются в файле скрипта («*.R» или «*.py»), который содержит все этапы построения от загрузки данных до вывода результатов; в тексте модели следует разделить строкой-примечанием, например, «# модель 1»\n",
    "\n",
    "2. **Файл с текстом пояснений (*.doc, *.docx, *.odf)** - в файле нужно привести результаты обучения моделей (матрицы ошибок, важнейшие показатели) и затем сделать выбор лучшей модели и обосновать, почему она лучшая. Приветствуется расчет различных показателей качества классификации, а также сравнение с константной моделью."
   ]
  },
  {
   "attachments": {},
   "cell_type": "markdown",
   "metadata": {},
   "source": [
    "## ***1. Загрузка данных***"
   ]
  },
  {
   "cell_type": "code",
   "execution_count": 1,
   "metadata": {},
   "outputs": [],
   "source": [
    "import pandas as pd\n",
    "\n",
    "df = pd.read_csv('csdata33.csv', delimiter=';', encoding='cp1251')"
   ]
  },
  {
   "attachments": {},
   "cell_type": "markdown",
   "metadata": {},
   "source": [
    "## ***2. Предварительный анализ данных***"
   ]
  },
  {
   "attachments": {},
   "cell_type": "markdown",
   "metadata": {},
   "source": [
    "### ***2.1. Обзор структуры данных***"
   ]
  },
  {
   "cell_type": "code",
   "execution_count": 2,
   "metadata": {},
   "outputs": [
    {
     "data": {
      "text/html": [
       "<div>\n",
       "<style scoped>\n",
       "    .dataframe tbody tr th:only-of-type {\n",
       "        vertical-align: middle;\n",
       "    }\n",
       "\n",
       "    .dataframe tbody tr th {\n",
       "        vertical-align: top;\n",
       "    }\n",
       "\n",
       "    .dataframe thead th {\n",
       "        text-align: right;\n",
       "    }\n",
       "</style>\n",
       "<table border=\"1\" class=\"dataframe\">\n",
       "  <thead>\n",
       "    <tr style=\"text-align: right;\">\n",
       "      <th></th>\n",
       "      <th>SeriousDlqin2yrs</th>\n",
       "      <th>RevolvingUtilizationOfUnsecuredLines</th>\n",
       "      <th>age</th>\n",
       "      <th>NumberOfTime30.59DaysPastDueNotWorse</th>\n",
       "      <th>DebtRatio</th>\n",
       "      <th>MonthlyIncome</th>\n",
       "      <th>NumberOfOpenCreditLinesAndLoans</th>\n",
       "      <th>NumberOfTimes90DaysLate</th>\n",
       "      <th>NumberRealEstateLoansOrLines</th>\n",
       "      <th>NumberOfTime60.89DaysPastDueNotWorse</th>\n",
       "      <th>NumberOfDependents</th>\n",
       "    </tr>\n",
       "  </thead>\n",
       "  <tbody>\n",
       "    <tr>\n",
       "      <th>0</th>\n",
       "      <td>0</td>\n",
       "      <td>0,65818014</td>\n",
       "      <td>38</td>\n",
       "      <td>1</td>\n",
       "      <td>0,085113375</td>\n",
       "      <td>3042</td>\n",
       "      <td>2</td>\n",
       "      <td>1</td>\n",
       "      <td>0</td>\n",
       "      <td>0</td>\n",
       "      <td>0</td>\n",
       "    </tr>\n",
       "    <tr>\n",
       "      <th>1</th>\n",
       "      <td>0</td>\n",
       "      <td>0,392994586</td>\n",
       "      <td>58</td>\n",
       "      <td>2</td>\n",
       "      <td>0,436102527</td>\n",
       "      <td>5500</td>\n",
       "      <td>15</td>\n",
       "      <td>0</td>\n",
       "      <td>1</td>\n",
       "      <td>0</td>\n",
       "      <td>0</td>\n",
       "    </tr>\n",
       "    <tr>\n",
       "      <th>2</th>\n",
       "      <td>0</td>\n",
       "      <td>0,881836362</td>\n",
       "      <td>50</td>\n",
       "      <td>3</td>\n",
       "      <td>0,567858035</td>\n",
       "      <td>4000</td>\n",
       "      <td>9</td>\n",
       "      <td>0</td>\n",
       "      <td>1</td>\n",
       "      <td>0</td>\n",
       "      <td>1</td>\n",
       "    </tr>\n",
       "    <tr>\n",
       "      <th>3</th>\n",
       "      <td>0</td>\n",
       "      <td>0,9999999</td>\n",
       "      <td>75</td>\n",
       "      <td>1</td>\n",
       "      <td>0,134078212</td>\n",
       "      <td>3400</td>\n",
       "      <td>1</td>\n",
       "      <td>0</td>\n",
       "      <td>1</td>\n",
       "      <td>0</td>\n",
       "      <td>1</td>\n",
       "    </tr>\n",
       "    <tr>\n",
       "      <th>4</th>\n",
       "      <td>0</td>\n",
       "      <td>0,469056842</td>\n",
       "      <td>31</td>\n",
       "      <td>0</td>\n",
       "      <td>0,048211004</td>\n",
       "      <td>9250</td>\n",
       "      <td>4</td>\n",
       "      <td>0</td>\n",
       "      <td>0</td>\n",
       "      <td>0</td>\n",
       "      <td>1</td>\n",
       "    </tr>\n",
       "  </tbody>\n",
       "</table>\n",
       "</div>"
      ],
      "text/plain": [
       "   SeriousDlqin2yrs RevolvingUtilizationOfUnsecuredLines  age   \n",
       "0                 0                           0,65818014   38  \\\n",
       "1                 0                          0,392994586   58   \n",
       "2                 0                          0,881836362   50   \n",
       "3                 0                            0,9999999   75   \n",
       "4                 0                          0,469056842   31   \n",
       "\n",
       "   NumberOfTime30.59DaysPastDueNotWorse    DebtRatio  MonthlyIncome   \n",
       "0                                     1  0,085113375           3042  \\\n",
       "1                                     2  0,436102527           5500   \n",
       "2                                     3  0,567858035           4000   \n",
       "3                                     1  0,134078212           3400   \n",
       "4                                     0  0,048211004           9250   \n",
       "\n",
       "   NumberOfOpenCreditLinesAndLoans  NumberOfTimes90DaysLate   \n",
       "0                                2                        1  \\\n",
       "1                               15                        0   \n",
       "2                                9                        0   \n",
       "3                                1                        0   \n",
       "4                                4                        0   \n",
       "\n",
       "   NumberRealEstateLoansOrLines  NumberOfTime60.89DaysPastDueNotWorse   \n",
       "0                             0                                     0  \\\n",
       "1                             1                                     0   \n",
       "2                             1                                     0   \n",
       "3                             1                                     0   \n",
       "4                             0                                     0   \n",
       "\n",
       "   NumberOfDependents  \n",
       "0                   0  \n",
       "1                   0  \n",
       "2                   1  \n",
       "3                   1  \n",
       "4                   1  "
      ]
     },
     "execution_count": 2,
     "metadata": {},
     "output_type": "execute_result"
    }
   ],
   "source": [
    "df.head()"
   ]
  },
  {
   "cell_type": "code",
   "execution_count": 3,
   "metadata": {},
   "outputs": [
    {
     "name": "stdout",
     "output_type": "stream",
     "text": [
      "<class 'pandas.core.frame.DataFrame'>\n",
      "RangeIndex: 5000 entries, 0 to 4999\n",
      "Data columns (total 11 columns):\n",
      " #   Column                                Non-Null Count  Dtype \n",
      "---  ------                                --------------  ----- \n",
      " 0   SeriousDlqin2yrs                      5000 non-null   int64 \n",
      " 1   RevolvingUtilizationOfUnsecuredLines  5000 non-null   object\n",
      " 2   age                                   5000 non-null   int64 \n",
      " 3   NumberOfTime30.59DaysPastDueNotWorse  5000 non-null   int64 \n",
      " 4   DebtRatio                             5000 non-null   object\n",
      " 5   MonthlyIncome                         5000 non-null   int64 \n",
      " 6   NumberOfOpenCreditLinesAndLoans       5000 non-null   int64 \n",
      " 7   NumberOfTimes90DaysLate               5000 non-null   int64 \n",
      " 8   NumberRealEstateLoansOrLines          5000 non-null   int64 \n",
      " 9   NumberOfTime60.89DaysPastDueNotWorse  5000 non-null   int64 \n",
      " 10  NumberOfDependents                    5000 non-null   int64 \n",
      "dtypes: int64(9), object(2)\n",
      "memory usage: 429.8+ KB\n"
     ]
    }
   ],
   "source": [
    "df.info()"
   ]
  },
  {
   "attachments": {},
   "cell_type": "markdown",
   "metadata": {},
   "source": [
    "### ***2.2. Проверка на отсутствующие значения***"
   ]
  },
  {
   "cell_type": "code",
   "execution_count": 4,
   "metadata": {},
   "outputs": [
    {
     "data": {
      "text/plain": [
       "SeriousDlqin2yrs                        0\n",
       "RevolvingUtilizationOfUnsecuredLines    0\n",
       "age                                     0\n",
       "NumberOfTime30.59DaysPastDueNotWorse    0\n",
       "DebtRatio                               0\n",
       "MonthlyIncome                           0\n",
       "NumberOfOpenCreditLinesAndLoans         0\n",
       "NumberOfTimes90DaysLate                 0\n",
       "NumberRealEstateLoansOrLines            0\n",
       "NumberOfTime60.89DaysPastDueNotWorse    0\n",
       "NumberOfDependents                      0\n",
       "dtype: int64"
      ]
     },
     "execution_count": 4,
     "metadata": {},
     "output_type": "execute_result"
    }
   ],
   "source": [
    "df.isnull().sum()"
   ]
  },
  {
   "attachments": {},
   "cell_type": "markdown",
   "metadata": {},
   "source": [
    "## ***3. Подготовка данных***"
   ]
  },
  {
   "cell_type": "code",
   "execution_count": 5,
   "metadata": {},
   "outputs": [
    {
     "data": {
      "text/html": [
       "<div>\n",
       "<style scoped>\n",
       "    .dataframe tbody tr th:only-of-type {\n",
       "        vertical-align: middle;\n",
       "    }\n",
       "\n",
       "    .dataframe tbody tr th {\n",
       "        vertical-align: top;\n",
       "    }\n",
       "\n",
       "    .dataframe thead th {\n",
       "        text-align: right;\n",
       "    }\n",
       "</style>\n",
       "<table border=\"1\" class=\"dataframe\">\n",
       "  <thead>\n",
       "    <tr style=\"text-align: right;\">\n",
       "      <th></th>\n",
       "      <th>SeriousDlqin2yrs</th>\n",
       "      <th>RevolvingUtilizationOfUnsecuredLines</th>\n",
       "      <th>age</th>\n",
       "      <th>NumberOfTime30.59DaysPastDueNotWorse</th>\n",
       "      <th>DebtRatio</th>\n",
       "      <th>MonthlyIncome</th>\n",
       "      <th>NumberOfOpenCreditLinesAndLoans</th>\n",
       "      <th>NumberOfTimes90DaysLate</th>\n",
       "      <th>NumberRealEstateLoansOrLines</th>\n",
       "      <th>NumberOfTime60.89DaysPastDueNotWorse</th>\n",
       "      <th>NumberOfDependents</th>\n",
       "    </tr>\n",
       "  </thead>\n",
       "  <tbody>\n",
       "    <tr>\n",
       "      <th>0</th>\n",
       "      <td>0</td>\n",
       "      <td>0.658180</td>\n",
       "      <td>38</td>\n",
       "      <td>1</td>\n",
       "      <td>0.085113</td>\n",
       "      <td>3042</td>\n",
       "      <td>2</td>\n",
       "      <td>1</td>\n",
       "      <td>0</td>\n",
       "      <td>0</td>\n",
       "      <td>0</td>\n",
       "    </tr>\n",
       "    <tr>\n",
       "      <th>1</th>\n",
       "      <td>0</td>\n",
       "      <td>0.392995</td>\n",
       "      <td>58</td>\n",
       "      <td>2</td>\n",
       "      <td>0.436103</td>\n",
       "      <td>5500</td>\n",
       "      <td>15</td>\n",
       "      <td>0</td>\n",
       "      <td>1</td>\n",
       "      <td>0</td>\n",
       "      <td>0</td>\n",
       "    </tr>\n",
       "    <tr>\n",
       "      <th>2</th>\n",
       "      <td>0</td>\n",
       "      <td>0.881836</td>\n",
       "      <td>50</td>\n",
       "      <td>3</td>\n",
       "      <td>0.567858</td>\n",
       "      <td>4000</td>\n",
       "      <td>9</td>\n",
       "      <td>0</td>\n",
       "      <td>1</td>\n",
       "      <td>0</td>\n",
       "      <td>1</td>\n",
       "    </tr>\n",
       "    <tr>\n",
       "      <th>3</th>\n",
       "      <td>0</td>\n",
       "      <td>1.000000</td>\n",
       "      <td>75</td>\n",
       "      <td>1</td>\n",
       "      <td>0.134078</td>\n",
       "      <td>3400</td>\n",
       "      <td>1</td>\n",
       "      <td>0</td>\n",
       "      <td>1</td>\n",
       "      <td>0</td>\n",
       "      <td>1</td>\n",
       "    </tr>\n",
       "    <tr>\n",
       "      <th>4</th>\n",
       "      <td>0</td>\n",
       "      <td>0.469057</td>\n",
       "      <td>31</td>\n",
       "      <td>0</td>\n",
       "      <td>0.048211</td>\n",
       "      <td>9250</td>\n",
       "      <td>4</td>\n",
       "      <td>0</td>\n",
       "      <td>0</td>\n",
       "      <td>0</td>\n",
       "      <td>1</td>\n",
       "    </tr>\n",
       "  </tbody>\n",
       "</table>\n",
       "</div>"
      ],
      "text/plain": [
       "   SeriousDlqin2yrs  RevolvingUtilizationOfUnsecuredLines  age   \n",
       "0                 0                              0.658180   38  \\\n",
       "1                 0                              0.392995   58   \n",
       "2                 0                              0.881836   50   \n",
       "3                 0                              1.000000   75   \n",
       "4                 0                              0.469057   31   \n",
       "\n",
       "   NumberOfTime30.59DaysPastDueNotWorse  DebtRatio  MonthlyIncome   \n",
       "0                                     1   0.085113           3042  \\\n",
       "1                                     2   0.436103           5500   \n",
       "2                                     3   0.567858           4000   \n",
       "3                                     1   0.134078           3400   \n",
       "4                                     0   0.048211           9250   \n",
       "\n",
       "   NumberOfOpenCreditLinesAndLoans  NumberOfTimes90DaysLate   \n",
       "0                                2                        1  \\\n",
       "1                               15                        0   \n",
       "2                                9                        0   \n",
       "3                                1                        0   \n",
       "4                                4                        0   \n",
       "\n",
       "   NumberRealEstateLoansOrLines  NumberOfTime60.89DaysPastDueNotWorse   \n",
       "0                             0                                     0  \\\n",
       "1                             1                                     0   \n",
       "2                             1                                     0   \n",
       "3                             1                                     0   \n",
       "4                             0                                     0   \n",
       "\n",
       "   NumberOfDependents  \n",
       "0                   0  \n",
       "1                   0  \n",
       "2                   1  \n",
       "3                   1  \n",
       "4                   1  "
      ]
     },
     "execution_count": 5,
     "metadata": {},
     "output_type": "execute_result"
    }
   ],
   "source": [
    "for column in df.select_dtypes(include='object').columns:\n",
    "    df[column] = df[column].str.replace(',', '.').astype(float)\n",
    "\n",
    "df.head()"
   ]
  },
  {
   "cell_type": "code",
   "execution_count": 6,
   "metadata": {},
   "outputs": [],
   "source": [
    "from sklearn.model_selection import train_test_split\n",
    "\n",
    "# Разделение на признаки и целевую переменную\n",
    "features = df.drop(\"SeriousDlqin2yrs\", axis=1)\n",
    "target = df[\"SeriousDlqin2yrs\"]\n",
    "\n",
    "# Разделение на обучающий и тестовый наборы\n",
    "x_train, x_test, y_train, y_test = train_test_split(features, target, test_size=0.3, random_state=42)\n"
   ]
  },
  {
   "attachments": {},
   "cell_type": "markdown",
   "metadata": {},
   "source": [
    "70% данных будет использовано для обучения модели, а оставшиеся 30% данных будут использованы для тестирования модели. "
   ]
  },
  {
   "cell_type": "code",
   "execution_count": 7,
   "metadata": {},
   "outputs": [],
   "source": [
    "from sklearn.preprocessing import StandardScaler\n",
    "\n",
    "scaler = StandardScaler()\n",
    "x_train_scaled = scaler.fit_transform(x_train)\n",
    "x_test_scaled = scaler.transform(x_test)"
   ]
  },
  {
   "attachments": {},
   "cell_type": "markdown",
   "metadata": {},
   "source": [
    "## ***4. Построение и обучение моделей***"
   ]
  },
  {
   "cell_type": "code",
   "execution_count": 44,
   "metadata": {},
   "outputs": [],
   "source": [
    "from tensorflow import keras\n",
    "from tensorflow.keras import layers\n",
    "from tensorflow.keras import regularizers\n",
    "from sklearn.tree import DecisionTreeClassifier\n",
    "from sklearn.ensemble import RandomForestClassifier\n",
    "from sklearn.linear_model import LogisticRegression"
   ]
  },
  {
   "attachments": {},
   "cell_type": "markdown",
   "metadata": {},
   "source": [
    "### ***4.1. Нейронная сеть***"
   ]
  },
  {
   "cell_type": "code",
   "execution_count": 48,
   "metadata": {},
   "outputs": [
    {
     "name": "stdout",
     "output_type": "stream",
     "text": [
      "Epoch 1/20\n",
      "110/110 [==============================] - 3s 19ms/step - loss: 0.2176 - accuracy: 0.9354 - val_loss: 0.1943 - val_accuracy: 0.9400\n",
      "Epoch 2/20\n",
      "110/110 [==============================] - 1s 11ms/step - loss: 0.1786 - accuracy: 0.9406 - val_loss: 0.2016 - val_accuracy: 0.9413\n",
      "Epoch 3/20\n",
      "110/110 [==============================] - 1s 10ms/step - loss: 0.1743 - accuracy: 0.9420 - val_loss: 0.1898 - val_accuracy: 0.9400\n",
      "Epoch 4/20\n",
      "110/110 [==============================] - 1s 10ms/step - loss: 0.1691 - accuracy: 0.9411 - val_loss: 0.1872 - val_accuracy: 0.9400\n",
      "Epoch 5/20\n",
      "110/110 [==============================] - 1s 10ms/step - loss: 0.1668 - accuracy: 0.9434 - val_loss: 0.1880 - val_accuracy: 0.9407\n",
      "Epoch 6/20\n",
      "110/110 [==============================] - 1s 10ms/step - loss: 0.1670 - accuracy: 0.9431 - val_loss: 0.1905 - val_accuracy: 0.9400\n",
      "Epoch 7/20\n",
      "110/110 [==============================] - 1s 11ms/step - loss: 0.1648 - accuracy: 0.9437 - val_loss: 0.1863 - val_accuracy: 0.9420\n",
      "Epoch 8/20\n",
      "110/110 [==============================] - 1s 11ms/step - loss: 0.1635 - accuracy: 0.9440 - val_loss: 0.1824 - val_accuracy: 0.9367\n",
      "Epoch 9/20\n",
      "110/110 [==============================] - 1s 10ms/step - loss: 0.1638 - accuracy: 0.9420 - val_loss: 0.1811 - val_accuracy: 0.9400\n",
      "Epoch 10/20\n",
      "110/110 [==============================] - 1s 10ms/step - loss: 0.1619 - accuracy: 0.9429 - val_loss: 0.1829 - val_accuracy: 0.9407\n",
      "Epoch 11/20\n",
      "110/110 [==============================] - 1s 10ms/step - loss: 0.1615 - accuracy: 0.9423 - val_loss: 0.1883 - val_accuracy: 0.9427\n",
      "Epoch 12/20\n",
      "110/110 [==============================] - 1s 10ms/step - loss: 0.1612 - accuracy: 0.9426 - val_loss: 0.1831 - val_accuracy: 0.9393\n",
      "Epoch 13/20\n",
      "110/110 [==============================] - 1s 10ms/step - loss: 0.1577 - accuracy: 0.9437 - val_loss: 0.1858 - val_accuracy: 0.9400\n",
      "Epoch 14/20\n",
      "110/110 [==============================] - 1s 10ms/step - loss: 0.1573 - accuracy: 0.9423 - val_loss: 0.2002 - val_accuracy: 0.9413\n",
      "Epoch 15/20\n",
      "110/110 [==============================] - 1s 10ms/step - loss: 0.1581 - accuracy: 0.9426 - val_loss: 0.1928 - val_accuracy: 0.9400\n",
      "Epoch 16/20\n",
      "110/110 [==============================] - 1s 10ms/step - loss: 0.1566 - accuracy: 0.9420 - val_loss: 0.1806 - val_accuracy: 0.9393\n",
      "Epoch 17/20\n",
      "110/110 [==============================] - 1s 10ms/step - loss: 0.1541 - accuracy: 0.9443 - val_loss: 0.1924 - val_accuracy: 0.9433\n",
      "Epoch 18/20\n",
      "110/110 [==============================] - 1s 10ms/step - loss: 0.1537 - accuracy: 0.9457 - val_loss: 0.1893 - val_accuracy: 0.9407\n",
      "Epoch 19/20\n",
      "110/110 [==============================] - 1s 10ms/step - loss: 0.1510 - accuracy: 0.9460 - val_loss: 0.1835 - val_accuracy: 0.9440\n",
      "Epoch 20/20\n",
      "110/110 [==============================] - 1s 10ms/step - loss: 0.1551 - accuracy: 0.9449 - val_loss: 0.1827 - val_accuracy: 0.9413\n"
     ]
    },
    {
     "data": {
      "text/plain": [
       "<keras.callbacks.History at 0x39899b3a0>"
      ]
     },
     "execution_count": 48,
     "metadata": {},
     "output_type": "execute_result"
    }
   ],
   "source": [
    "model_nn = keras.Sequential([\n",
    "    layers.Dense(256, activation='LeakyReLU', input_dim=x_train_scaled.shape[1]),\n",
    "    layers.Dropout(0.2),\n",
    "    layers.Dense(128, activation='LeakyReLU'),\n",
    "    layers.Dropout(0.2),\n",
    "    layers.Dense(64, activation='LeakyReLU'),\n",
    "    layers.Dropout(0.2),\n",
    "    layers.Dense(128, activation='LeakyReLU'),\n",
    "    layers.Dropout(0.2),\n",
    "    layers.Dense(64, activation='LeakyReLU'),\n",
    "    layers.Dropout(0.2),\n",
    "    layers.Dense(1, activation='sigmoid'),\n",
    "])\n",
    "\n",
    "model_nn.compile(loss='binary_crossentropy', optimizer='adam', metrics=['accuracy'])\n",
    "model_nn.fit(x_train_scaled, y_train, epochs=20, batch_size=32, validation_data=(x_test_scaled, y_test))"
   ]
  },
  {
   "attachments": {},
   "cell_type": "markdown",
   "metadata": {},
   "source": [
    "### ***4.2. Дерево решений***"
   ]
  },
  {
   "cell_type": "code",
   "execution_count": 54,
   "metadata": {},
   "outputs": [
    {
     "data": {
      "text/html": [
       "<style>#sk-container-id-3 {color: black;background-color: white;}#sk-container-id-3 pre{padding: 0;}#sk-container-id-3 div.sk-toggleable {background-color: white;}#sk-container-id-3 label.sk-toggleable__label {cursor: pointer;display: block;width: 100%;margin-bottom: 0;padding: 0.3em;box-sizing: border-box;text-align: center;}#sk-container-id-3 label.sk-toggleable__label-arrow:before {content: \"▸\";float: left;margin-right: 0.25em;color: #696969;}#sk-container-id-3 label.sk-toggleable__label-arrow:hover:before {color: black;}#sk-container-id-3 div.sk-estimator:hover label.sk-toggleable__label-arrow:before {color: black;}#sk-container-id-3 div.sk-toggleable__content {max-height: 0;max-width: 0;overflow: hidden;text-align: left;background-color: #f0f8ff;}#sk-container-id-3 div.sk-toggleable__content pre {margin: 0.2em;color: black;border-radius: 0.25em;background-color: #f0f8ff;}#sk-container-id-3 input.sk-toggleable__control:checked~div.sk-toggleable__content {max-height: 200px;max-width: 100%;overflow: auto;}#sk-container-id-3 input.sk-toggleable__control:checked~label.sk-toggleable__label-arrow:before {content: \"▾\";}#sk-container-id-3 div.sk-estimator input.sk-toggleable__control:checked~label.sk-toggleable__label {background-color: #d4ebff;}#sk-container-id-3 div.sk-label input.sk-toggleable__control:checked~label.sk-toggleable__label {background-color: #d4ebff;}#sk-container-id-3 input.sk-hidden--visually {border: 0;clip: rect(1px 1px 1px 1px);clip: rect(1px, 1px, 1px, 1px);height: 1px;margin: -1px;overflow: hidden;padding: 0;position: absolute;width: 1px;}#sk-container-id-3 div.sk-estimator {font-family: monospace;background-color: #f0f8ff;border: 1px dotted black;border-radius: 0.25em;box-sizing: border-box;margin-bottom: 0.5em;}#sk-container-id-3 div.sk-estimator:hover {background-color: #d4ebff;}#sk-container-id-3 div.sk-parallel-item::after {content: \"\";width: 100%;border-bottom: 1px solid gray;flex-grow: 1;}#sk-container-id-3 div.sk-label:hover label.sk-toggleable__label {background-color: #d4ebff;}#sk-container-id-3 div.sk-serial::before {content: \"\";position: absolute;border-left: 1px solid gray;box-sizing: border-box;top: 0;bottom: 0;left: 50%;z-index: 0;}#sk-container-id-3 div.sk-serial {display: flex;flex-direction: column;align-items: center;background-color: white;padding-right: 0.2em;padding-left: 0.2em;position: relative;}#sk-container-id-3 div.sk-item {position: relative;z-index: 1;}#sk-container-id-3 div.sk-parallel {display: flex;align-items: stretch;justify-content: center;background-color: white;position: relative;}#sk-container-id-3 div.sk-item::before, #sk-container-id-3 div.sk-parallel-item::before {content: \"\";position: absolute;border-left: 1px solid gray;box-sizing: border-box;top: 0;bottom: 0;left: 50%;z-index: -1;}#sk-container-id-3 div.sk-parallel-item {display: flex;flex-direction: column;z-index: 1;position: relative;background-color: white;}#sk-container-id-3 div.sk-parallel-item:first-child::after {align-self: flex-end;width: 50%;}#sk-container-id-3 div.sk-parallel-item:last-child::after {align-self: flex-start;width: 50%;}#sk-container-id-3 div.sk-parallel-item:only-child::after {width: 0;}#sk-container-id-3 div.sk-dashed-wrapped {border: 1px dashed gray;margin: 0 0.4em 0.5em 0.4em;box-sizing: border-box;padding-bottom: 0.4em;background-color: white;}#sk-container-id-3 div.sk-label label {font-family: monospace;font-weight: bold;display: inline-block;line-height: 1.2em;}#sk-container-id-3 div.sk-label-container {text-align: center;}#sk-container-id-3 div.sk-container {/* jupyter's `normalize.less` sets `[hidden] { display: none; }` but bootstrap.min.css set `[hidden] { display: none !important; }` so we also need the `!important` here to be able to override the default hidden behavior on the sphinx rendered scikit-learn.org. See: https://github.com/scikit-learn/scikit-learn/issues/21755 */display: inline-block !important;position: relative;}#sk-container-id-3 div.sk-text-repr-fallback {display: none;}</style><div id=\"sk-container-id-3\" class=\"sk-top-container\"><div class=\"sk-text-repr-fallback\"><pre>DecisionTreeClassifier(max_depth=5, random_state=42)</pre><b>In a Jupyter environment, please rerun this cell to show the HTML representation or trust the notebook. <br />On GitHub, the HTML representation is unable to render, please try loading this page with nbviewer.org.</b></div><div class=\"sk-container\" hidden><div class=\"sk-item\"><div class=\"sk-estimator sk-toggleable\"><input class=\"sk-toggleable__control sk-hidden--visually\" id=\"sk-estimator-id-3\" type=\"checkbox\" checked><label for=\"sk-estimator-id-3\" class=\"sk-toggleable__label sk-toggleable__label-arrow\">DecisionTreeClassifier</label><div class=\"sk-toggleable__content\"><pre>DecisionTreeClassifier(max_depth=5, random_state=42)</pre></div></div></div></div></div>"
      ],
      "text/plain": [
       "DecisionTreeClassifier(max_depth=5, random_state=42)"
      ]
     },
     "execution_count": 54,
     "metadata": {},
     "output_type": "execute_result"
    }
   ],
   "source": [
    "model_tree = DecisionTreeClassifier(criterion='gini', max_depth=5, min_samples_split=2, min_samples_leaf=1, max_features=None, random_state=42)\n",
    "model_tree.fit(x_train_scaled, y_train)"
   ]
  },
  {
   "attachments": {},
   "cell_type": "markdown",
   "metadata": {},
   "source": [
    "### ***4.3. Логистическая регрессия***"
   ]
  },
  {
   "cell_type": "code",
   "execution_count": 56,
   "metadata": {},
   "outputs": [
    {
     "data": {
      "text/html": [
       "<style>#sk-container-id-4 {color: black;background-color: white;}#sk-container-id-4 pre{padding: 0;}#sk-container-id-4 div.sk-toggleable {background-color: white;}#sk-container-id-4 label.sk-toggleable__label {cursor: pointer;display: block;width: 100%;margin-bottom: 0;padding: 0.3em;box-sizing: border-box;text-align: center;}#sk-container-id-4 label.sk-toggleable__label-arrow:before {content: \"▸\";float: left;margin-right: 0.25em;color: #696969;}#sk-container-id-4 label.sk-toggleable__label-arrow:hover:before {color: black;}#sk-container-id-4 div.sk-estimator:hover label.sk-toggleable__label-arrow:before {color: black;}#sk-container-id-4 div.sk-toggleable__content {max-height: 0;max-width: 0;overflow: hidden;text-align: left;background-color: #f0f8ff;}#sk-container-id-4 div.sk-toggleable__content pre {margin: 0.2em;color: black;border-radius: 0.25em;background-color: #f0f8ff;}#sk-container-id-4 input.sk-toggleable__control:checked~div.sk-toggleable__content {max-height: 200px;max-width: 100%;overflow: auto;}#sk-container-id-4 input.sk-toggleable__control:checked~label.sk-toggleable__label-arrow:before {content: \"▾\";}#sk-container-id-4 div.sk-estimator input.sk-toggleable__control:checked~label.sk-toggleable__label {background-color: #d4ebff;}#sk-container-id-4 div.sk-label input.sk-toggleable__control:checked~label.sk-toggleable__label {background-color: #d4ebff;}#sk-container-id-4 input.sk-hidden--visually {border: 0;clip: rect(1px 1px 1px 1px);clip: rect(1px, 1px, 1px, 1px);height: 1px;margin: -1px;overflow: hidden;padding: 0;position: absolute;width: 1px;}#sk-container-id-4 div.sk-estimator {font-family: monospace;background-color: #f0f8ff;border: 1px dotted black;border-radius: 0.25em;box-sizing: border-box;margin-bottom: 0.5em;}#sk-container-id-4 div.sk-estimator:hover {background-color: #d4ebff;}#sk-container-id-4 div.sk-parallel-item::after {content: \"\";width: 100%;border-bottom: 1px solid gray;flex-grow: 1;}#sk-container-id-4 div.sk-label:hover label.sk-toggleable__label {background-color: #d4ebff;}#sk-container-id-4 div.sk-serial::before {content: \"\";position: absolute;border-left: 1px solid gray;box-sizing: border-box;top: 0;bottom: 0;left: 50%;z-index: 0;}#sk-container-id-4 div.sk-serial {display: flex;flex-direction: column;align-items: center;background-color: white;padding-right: 0.2em;padding-left: 0.2em;position: relative;}#sk-container-id-4 div.sk-item {position: relative;z-index: 1;}#sk-container-id-4 div.sk-parallel {display: flex;align-items: stretch;justify-content: center;background-color: white;position: relative;}#sk-container-id-4 div.sk-item::before, #sk-container-id-4 div.sk-parallel-item::before {content: \"\";position: absolute;border-left: 1px solid gray;box-sizing: border-box;top: 0;bottom: 0;left: 50%;z-index: -1;}#sk-container-id-4 div.sk-parallel-item {display: flex;flex-direction: column;z-index: 1;position: relative;background-color: white;}#sk-container-id-4 div.sk-parallel-item:first-child::after {align-self: flex-end;width: 50%;}#sk-container-id-4 div.sk-parallel-item:last-child::after {align-self: flex-start;width: 50%;}#sk-container-id-4 div.sk-parallel-item:only-child::after {width: 0;}#sk-container-id-4 div.sk-dashed-wrapped {border: 1px dashed gray;margin: 0 0.4em 0.5em 0.4em;box-sizing: border-box;padding-bottom: 0.4em;background-color: white;}#sk-container-id-4 div.sk-label label {font-family: monospace;font-weight: bold;display: inline-block;line-height: 1.2em;}#sk-container-id-4 div.sk-label-container {text-align: center;}#sk-container-id-4 div.sk-container {/* jupyter's `normalize.less` sets `[hidden] { display: none; }` but bootstrap.min.css set `[hidden] { display: none !important; }` so we also need the `!important` here to be able to override the default hidden behavior on the sphinx rendered scikit-learn.org. See: https://github.com/scikit-learn/scikit-learn/issues/21755 */display: inline-block !important;position: relative;}#sk-container-id-4 div.sk-text-repr-fallback {display: none;}</style><div id=\"sk-container-id-4\" class=\"sk-top-container\"><div class=\"sk-text-repr-fallback\"><pre>LogisticRegression(random_state=42, solver=&#x27;liblinear&#x27;)</pre><b>In a Jupyter environment, please rerun this cell to show the HTML representation or trust the notebook. <br />On GitHub, the HTML representation is unable to render, please try loading this page with nbviewer.org.</b></div><div class=\"sk-container\" hidden><div class=\"sk-item\"><div class=\"sk-estimator sk-toggleable\"><input class=\"sk-toggleable__control sk-hidden--visually\" id=\"sk-estimator-id-4\" type=\"checkbox\" checked><label for=\"sk-estimator-id-4\" class=\"sk-toggleable__label sk-toggleable__label-arrow\">LogisticRegression</label><div class=\"sk-toggleable__content\"><pre>LogisticRegression(random_state=42, solver=&#x27;liblinear&#x27;)</pre></div></div></div></div></div>"
      ],
      "text/plain": [
       "LogisticRegression(random_state=42, solver='liblinear')"
      ]
     },
     "execution_count": 56,
     "metadata": {},
     "output_type": "execute_result"
    }
   ],
   "source": [
    "model_lr = LogisticRegression(penalty='l2', C=1.0, solver='liblinear', max_iter=100, random_state=42)\n",
    "model_lr.fit(x_train_scaled, y_train)"
   ]
  },
  {
   "attachments": {},
   "cell_type": "markdown",
   "metadata": {},
   "source": [
    "## ***5. Оценка производительности***"
   ]
  },
  {
   "cell_type": "code",
   "execution_count": 9,
   "metadata": {},
   "outputs": [],
   "source": [
    "from sklearn.metrics import classification_report"
   ]
  },
  {
   "attachments": {},
   "cell_type": "markdown",
   "metadata": {},
   "source": [
    "### ***5.1. Оценка нейронной сети***"
   ]
  },
  {
   "cell_type": "code",
   "execution_count": 49,
   "metadata": {},
   "outputs": [
    {
     "name": "stdout",
     "output_type": "stream",
     "text": [
      "47/47 [==============================] - 0s 3ms/step\n",
      "Метрики ошибки для нейросети (Model_nn):\n",
      "              precision    recall  f1-score   support\n",
      "\n",
      "           0       0.94      1.00      0.97      1410\n",
      "           1       0.58      0.08      0.14        90\n",
      "\n",
      "    accuracy                           0.94      1500\n",
      "   macro avg       0.76      0.54      0.55      1500\n",
      "weighted avg       0.92      0.94      0.92      1500\n",
      "\n"
     ]
    }
   ],
   "source": [
    "y_pred_nn = model_nn.predict(x_test_scaled)\n",
    "y_pred_nn = (y_pred_nn > 0.5).astype(int)\n",
    "classification_report_nn1 = classification_report(y_test, y_pred_nn)\n",
    "\n",
    "print(\"Метрики ошибки для нейросети (Model_nn):\")\n",
    "print(classification_report_nn1)"
   ]
  },
  {
   "attachments": {},
   "cell_type": "markdown",
   "metadata": {},
   "source": [
    "### ***5.2. Оценка дерева решений***"
   ]
  },
  {
   "cell_type": "code",
   "execution_count": 55,
   "metadata": {},
   "outputs": [
    {
     "name": "stdout",
     "output_type": "stream",
     "text": [
      "Метрики ошибки для дерева решений:\n",
      "              precision    recall  f1-score   support\n",
      "\n",
      "           0       0.95      0.98      0.96      1410\n",
      "           1       0.35      0.17      0.23        90\n",
      "\n",
      "    accuracy                           0.93      1500\n",
      "   macro avg       0.65      0.57      0.59      1500\n",
      "weighted avg       0.91      0.93      0.92      1500\n",
      "\n"
     ]
    }
   ],
   "source": [
    "y_pred_tree = model_tree.predict(x_test_scaled)\n",
    "classification_report_tree = classification_report(y_test, y_pred_tree)\n",
    "\n",
    "print(\"Метрики ошибки для дерева решений:\")\n",
    "print(classification_report_tree)"
   ]
  },
  {
   "attachments": {},
   "cell_type": "markdown",
   "metadata": {},
   "source": [
    "### ***5.3. Оценка логистической регрессии***"
   ]
  },
  {
   "cell_type": "code",
   "execution_count": 57,
   "metadata": {},
   "outputs": [
    {
     "name": "stdout",
     "output_type": "stream",
     "text": [
      "Метрики ошибки для логистической регрессии:\n",
      "              precision    recall  f1-score   support\n",
      "\n",
      "           0       0.95      0.99      0.97      1410\n",
      "           1       0.52      0.14      0.23        90\n",
      "\n",
      "    accuracy                           0.94      1500\n",
      "   macro avg       0.73      0.57      0.60      1500\n",
      "weighted avg       0.92      0.94      0.92      1500\n",
      "\n"
     ]
    }
   ],
   "source": [
    "y_pred_lr = model_lr.predict(x_test_scaled)\n",
    "classification_report_lr = classification_report(y_test, y_pred_lr)\n",
    "\n",
    "print(\"Метрики ошибки для логистической регрессии:\")\n",
    "print(classification_report_lr)"
   ]
  },
  {
   "attachments": {},
   "cell_type": "markdown",
   "metadata": {},
   "source": [
    "## ***6. Сравнение результатов***"
   ]
  },
  {
   "cell_type": "code",
   "execution_count": 61,
   "metadata": {},
   "outputs": [
    {
     "data": {
      "text/html": [
       "<div>\n",
       "<style scoped>\n",
       "    .dataframe tbody tr th:only-of-type {\n",
       "        vertical-align: middle;\n",
       "    }\n",
       "\n",
       "    .dataframe tbody tr th {\n",
       "        vertical-align: top;\n",
       "    }\n",
       "\n",
       "    .dataframe thead th {\n",
       "        text-align: right;\n",
       "    }\n",
       "</style>\n",
       "<table border=\"1\" class=\"dataframe\">\n",
       "  <thead>\n",
       "    <tr style=\"text-align: right;\">\n",
       "      <th></th>\n",
       "      <th>Модель</th>\n",
       "      <th>Точность</th>\n",
       "      <th>Полнота</th>\n",
       "      <th>F1-мера</th>\n",
       "    </tr>\n",
       "  </thead>\n",
       "  <tbody>\n",
       "    <tr>\n",
       "      <th>0</th>\n",
       "      <td>Model_nn</td>\n",
       "      <td>0.944220</td>\n",
       "      <td>0.996454</td>\n",
       "      <td>0.969634</td>\n",
       "    </tr>\n",
       "    <tr>\n",
       "      <th>1</th>\n",
       "      <td>Дерево решений</td>\n",
       "      <td>0.948524</td>\n",
       "      <td>0.980142</td>\n",
       "      <td>0.964074</td>\n",
       "    </tr>\n",
       "    <tr>\n",
       "      <th>2</th>\n",
       "      <td>Логистическая регрессия</td>\n",
       "      <td>0.947797</td>\n",
       "      <td>0.991489</td>\n",
       "      <td>0.969151</td>\n",
       "    </tr>\n",
       "  </tbody>\n",
       "</table>\n",
       "</div>"
      ],
      "text/plain": [
       "                    Модель  Точность   Полнота   F1-мера\n",
       "0                 Model_nn  0.944220  0.996454  0.969634\n",
       "1           Дерево решений  0.948524  0.980142  0.964074\n",
       "2  Логистическая регрессия  0.947797  0.991489  0.969151"
      ]
     },
     "execution_count": 61,
     "metadata": {},
     "output_type": "execute_result"
    }
   ],
   "source": [
    "target_names = ['0', '1']\n",
    "\n",
    "report_nn = classification_report(y_test, y_pred_nn, output_dict=True)\n",
    "report_tree = classification_report(y_test, y_pred_tree, target_names=target_names, output_dict=True)\n",
    "report_lr = classification_report(y_test, y_pred_lr, target_names=target_names, output_dict=True)\n",
    "\n",
    "\n",
    "data1 = {'Модель': ['Model_nn', 'Дерево решений', 'Логистическая регрессия'],\n",
    "        'Точность': [report_nn['0']['precision'], report_tree['0']['precision'], report_lr['0']['precision']],\n",
    "        'Полнота': [report_nn['0']['recall'], report_tree['0']['recall'], report_lr['0']['recall']],\n",
    "        'F1-мера': [report_nn['0']['f1-score'], report_tree['0']['f1-score'], report_lr['0']['f1-score']]}\n",
    "df1 = pd.DataFrame(data1)\n",
    "\n",
    "df1"
   ]
  },
  {
   "cell_type": "code",
   "execution_count": 62,
   "metadata": {},
   "outputs": [
    {
     "data": {
      "text/html": [
       "<div>\n",
       "<style scoped>\n",
       "    .dataframe tbody tr th:only-of-type {\n",
       "        vertical-align: middle;\n",
       "    }\n",
       "\n",
       "    .dataframe tbody tr th {\n",
       "        vertical-align: top;\n",
       "    }\n",
       "\n",
       "    .dataframe thead th {\n",
       "        text-align: right;\n",
       "    }\n",
       "</style>\n",
       "<table border=\"1\" class=\"dataframe\">\n",
       "  <thead>\n",
       "    <tr style=\"text-align: right;\">\n",
       "      <th></th>\n",
       "      <th>Модель</th>\n",
       "      <th>Точность</th>\n",
       "      <th>Полнота</th>\n",
       "      <th>F1-мера</th>\n",
       "    </tr>\n",
       "  </thead>\n",
       "  <tbody>\n",
       "    <tr>\n",
       "      <th>0</th>\n",
       "      <td>Model_nn</td>\n",
       "      <td>0.583333</td>\n",
       "      <td>0.077778</td>\n",
       "      <td>0.137255</td>\n",
       "    </tr>\n",
       "    <tr>\n",
       "      <th>1</th>\n",
       "      <td>Дерево решений</td>\n",
       "      <td>0.348837</td>\n",
       "      <td>0.166667</td>\n",
       "      <td>0.225564</td>\n",
       "    </tr>\n",
       "    <tr>\n",
       "      <th>2</th>\n",
       "      <td>Логистическая регрессия</td>\n",
       "      <td>0.520000</td>\n",
       "      <td>0.144444</td>\n",
       "      <td>0.226087</td>\n",
       "    </tr>\n",
       "  </tbody>\n",
       "</table>\n",
       "</div>"
      ],
      "text/plain": [
       "                    Модель  Точность   Полнота   F1-мера\n",
       "0                 Model_nn  0.583333  0.077778  0.137255\n",
       "1           Дерево решений  0.348837  0.166667  0.225564\n",
       "2  Логистическая регрессия  0.520000  0.144444  0.226087"
      ]
     },
     "execution_count": 62,
     "metadata": {},
     "output_type": "execute_result"
    }
   ],
   "source": [
    "target_names = ['0', '1']\n",
    "\n",
    "report_nn = classification_report(y_test, y_pred_nn, output_dict=True)\n",
    "report_tree = classification_report(y_test, y_pred_tree, target_names=target_names, output_dict=True)\n",
    "report_lr = classification_report(y_test, y_pred_lr, target_names=target_names, output_dict=True)\n",
    "\n",
    "data0 = {'Модель': ['Model_nn', 'Дерево решений', 'Логистическая регрессия'],\n",
    "        'Точность': [report_nn['1']['precision'], report_tree['1']['precision'], report_lr['1']['precision']],\n",
    "        'Полнота': [report_nn['1']['recall'], report_tree['1']['recall'], report_lr['1']['recall']],\n",
    "        'F1-мера': [report_nn['1']['f1-score'], report_tree['1']['f1-score'], report_lr['1']['f1-score']]}\n",
    "df0 = pd.DataFrame(data0)\n",
    "\n",
    "df0"
   ]
  },
  {
   "attachments": {},
   "cell_type": "markdown",
   "metadata": {},
   "source": [
    "## 7. ***Выводы***\n",
    "\n",
    "1. Нейронная сеть показывает высокую точность (accuracy) на уровне 94%, однако метрика f1-score для класса 1 (плохие клиенты) достаточно низкая - всего 0.14. Это означает, что модель имеет слабую способность предсказывать положительный класс, и доля ложно-положительных и ложно-отрицательных предсказаний велика.\n",
    "\n",
    "2. Дерево решений показывает немного более низкую точность (accuracy) на уровне 93%, а также низкую метрику f1-score для класса 1 (плохие клиенты) - всего 0.23. Это указывает на недостаточную способность модели предсказывать положительный класс.\n",
    "\n",
    "3. Логистическая регрессия имеет точность (accuracy) на уровне 94%, а метрика f1-score для класса 1 (плохие клиенты) составляет 0.23. Хотя эта модель также имеет низкую способность предсказывать положительный класс, она показывает немного лучшие результаты, чем две предыдущие модели.\n",
    "\n",
    "Логистическая регрессия демонстрирует наилучшую производительность среди трех моделей для данной задачи скоринга. \n",
    "\n",
    "Но все модели имеют низкую способность предсказывать положительный класс."
   ]
  }
 ],
 "metadata": {
  "kernelspec": {
   "display_name": "Python 3 (ipykernel)",
   "language": "python",
   "name": "python3"
  },
  "language_info": {
   "codemirror_mode": {
    "name": "ipython",
    "version": 3
   },
   "file_extension": ".py",
   "mimetype": "text/x-python",
   "name": "python",
   "nbconvert_exporter": "python",
   "pygments_lexer": "ipython3",
   "version": "3.10.9"
  },
  "orig_nbformat": 4
 },
 "nbformat": 4,
 "nbformat_minor": 2
}
